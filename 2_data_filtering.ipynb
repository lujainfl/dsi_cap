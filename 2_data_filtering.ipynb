{
 "cells": [
  {
   "cell_type": "code",
   "execution_count": 1,
   "metadata": {},
   "outputs": [],
   "source": [
    "import pandas as pd\n",
    "pd.set_option('display.max_columns', None)\n",
    "import matplotlib.pyplot as plt\n",
    "import seaborn as sns\n",
    "import numpy as np"
   ]
  },
  {
   "cell_type": "code",
   "execution_count": 2,
   "metadata": {},
   "outputs": [
    {
     "name": "stderr",
     "output_type": "stream",
     "text": [
      "/Users/LujFel/anaconda3/lib/python3.7/site-packages/tqdm/autonotebook/__init__.py:14: TqdmExperimentalWarning: Using `tqdm.autonotebook.tqdm` in notebook mode. Use `tqdm.tqdm` instead to force console mode (e.g. in jupyter console)\n",
      "  \" (e.g. in jupyter console)\", TqdmExperimentalWarning)\n"
     ]
    }
   ],
   "source": [
    "from tqdm.autonotebook import tqdm\n",
    "tqdm.pandas()\n",
    "from langdetect import detect"
   ]
  },
  {
   "cell_type": "markdown",
   "metadata": {},
   "source": [
    "Read the data"
   ]
  },
  {
   "cell_type": "code",
   "execution_count": 6,
   "metadata": {},
   "outputs": [],
   "source": [
    "df = pd.read_csv('tweets_finale_full.csv', low_memory=False)"
   ]
  },
  {
   "cell_type": "code",
   "execution_count": 7,
   "metadata": {},
   "outputs": [
    {
     "name": "stdout",
     "output_type": "stream",
     "text": [
      "<class 'pandas.core.frame.DataFrame'>\n",
      "RangeIndex: 607986 entries, 0 to 607985\n",
      "Data columns (total 23 columns):\n",
      "id                 607986 non-null int64\n",
      "conversation_id    607986 non-null int64\n",
      "created_at         607986 non-null int64\n",
      "date               607986 non-null object\n",
      "time               607986 non-null object\n",
      "timezone           607986 non-null object\n",
      "user_id            607986 non-null int64\n",
      "username           607986 non-null object\n",
      "name               607986 non-null object\n",
      "place              192 non-null object\n",
      "tweet              607986 non-null object\n",
      "mentions           251159 non-null object\n",
      "urls               607986 non-null object\n",
      "photos             607986 non-null object\n",
      "replies_count      607986 non-null int64\n",
      "retweets_count     607986 non-null int64\n",
      "likes_count        607986 non-null int64\n",
      "location           0 non-null float64\n",
      "hashtags           607986 non-null object\n",
      "link               607986 non-null object\n",
      "retweet            0 non-null float64\n",
      "quote_url          36154 non-null object\n",
      "video              607986 non-null int64\n",
      "dtypes: float64(2), int64(8), object(13)\n",
      "memory usage: 106.7+ MB\n"
     ]
    }
   ],
   "source": [
    "df.info()"
   ]
  },
  {
   "cell_type": "code",
   "execution_count": 8,
   "metadata": {},
   "outputs": [
    {
     "data": {
      "text/html": [
       "<div>\n",
       "<style scoped>\n",
       "    .dataframe tbody tr th:only-of-type {\n",
       "        vertical-align: middle;\n",
       "    }\n",
       "\n",
       "    .dataframe tbody tr th {\n",
       "        vertical-align: top;\n",
       "    }\n",
       "\n",
       "    .dataframe thead th {\n",
       "        text-align: right;\n",
       "    }\n",
       "</style>\n",
       "<table border=\"1\" class=\"dataframe\">\n",
       "  <thead>\n",
       "    <tr style=\"text-align: right;\">\n",
       "      <th></th>\n",
       "      <th>id</th>\n",
       "      <th>conversation_id</th>\n",
       "      <th>created_at</th>\n",
       "      <th>date</th>\n",
       "      <th>time</th>\n",
       "      <th>timezone</th>\n",
       "      <th>user_id</th>\n",
       "      <th>username</th>\n",
       "      <th>name</th>\n",
       "      <th>place</th>\n",
       "      <th>tweet</th>\n",
       "      <th>mentions</th>\n",
       "      <th>urls</th>\n",
       "      <th>photos</th>\n",
       "      <th>replies_count</th>\n",
       "      <th>retweets_count</th>\n",
       "      <th>likes_count</th>\n",
       "      <th>location</th>\n",
       "      <th>hashtags</th>\n",
       "      <th>link</th>\n",
       "      <th>retweet</th>\n",
       "      <th>quote_url</th>\n",
       "      <th>video</th>\n",
       "    </tr>\n",
       "  </thead>\n",
       "  <tbody>\n",
       "    <tr>\n",
       "      <th>0</th>\n",
       "      <td>1087652359809970176</td>\n",
       "      <td>1087652359809970176</td>\n",
       "      <td>1548151504000</td>\n",
       "      <td>2019-01-22</td>\n",
       "      <td>10:05:04</td>\n",
       "      <td>UTC</td>\n",
       "      <td>549184853</td>\n",
       "      <td>0504537439</td>\n",
       "      <td>مجموعه الشنبري العقاريه مكه المكرمه</td>\n",
       "      <td>NaN</td>\n",
       "      <td>pic.twitter.com/oqW8eeHfwg</td>\n",
       "      <td>NaN</td>\n",
       "      <td>[]</td>\n",
       "      <td>['https://pbs.twimg.com/media/DxgeDVpX0AAd1mV....</td>\n",
       "      <td>0</td>\n",
       "      <td>0</td>\n",
       "      <td>0</td>\n",
       "      <td>NaN</td>\n",
       "      <td>[]</td>\n",
       "      <td>https://twitter.com/0504537439/status/10876523...</td>\n",
       "      <td>NaN</td>\n",
       "      <td>NaN</td>\n",
       "      <td>0</td>\n",
       "    </tr>\n",
       "    <tr>\n",
       "      <th>1</th>\n",
       "      <td>1081915639554625541</td>\n",
       "      <td>1081915639554625541</td>\n",
       "      <td>1546783764000</td>\n",
       "      <td>2019-01-06</td>\n",
       "      <td>14:09:24</td>\n",
       "      <td>UTC</td>\n",
       "      <td>549184853</td>\n",
       "      <td>0504537439</td>\n",
       "      <td>مجموعه الشنبري العقاريه مكه المكرمه</td>\n",
       "      <td>NaN</td>\n",
       "      <td>pic.twitter.com/Rx6NyiZf9T</td>\n",
       "      <td>NaN</td>\n",
       "      <td>[]</td>\n",
       "      <td>['https://pbs.twimg.com/media/DwO8h4_WoAAa6ii....</td>\n",
       "      <td>0</td>\n",
       "      <td>0</td>\n",
       "      <td>1</td>\n",
       "      <td>NaN</td>\n",
       "      <td>[]</td>\n",
       "      <td>https://twitter.com/0504537439/status/10819156...</td>\n",
       "      <td>NaN</td>\n",
       "      <td>NaN</td>\n",
       "      <td>0</td>\n",
       "    </tr>\n",
       "  </tbody>\n",
       "</table>\n",
       "</div>"
      ],
      "text/plain": [
       "                    id      conversation_id     created_at        date  \\\n",
       "0  1087652359809970176  1087652359809970176  1548151504000  2019-01-22   \n",
       "1  1081915639554625541  1081915639554625541  1546783764000  2019-01-06   \n",
       "\n",
       "       time timezone    user_id    username  \\\n",
       "0  10:05:04      UTC  549184853  0504537439   \n",
       "1  14:09:24      UTC  549184853  0504537439   \n",
       "\n",
       "                                  name place                        tweet  \\\n",
       "0  مجموعه الشنبري العقاريه مكه المكرمه   NaN   pic.twitter.com/oqW8eeHfwg   \n",
       "1  مجموعه الشنبري العقاريه مكه المكرمه   NaN   pic.twitter.com/Rx6NyiZf9T   \n",
       "\n",
       "  mentions urls                                             photos  \\\n",
       "0      NaN   []  ['https://pbs.twimg.com/media/DxgeDVpX0AAd1mV....   \n",
       "1      NaN   []  ['https://pbs.twimg.com/media/DwO8h4_WoAAa6ii....   \n",
       "\n",
       "   replies_count  retweets_count  likes_count  location hashtags  \\\n",
       "0              0               0            0       NaN       []   \n",
       "1              0               0            1       NaN       []   \n",
       "\n",
       "                                                link  retweet quote_url  video  \n",
       "0  https://twitter.com/0504537439/status/10876523...      NaN       NaN      0  \n",
       "1  https://twitter.com/0504537439/status/10819156...      NaN       NaN      0  "
      ]
     },
     "execution_count": 8,
     "metadata": {},
     "output_type": "execute_result"
    }
   ],
   "source": [
    "df.head(2)"
   ]
  },
  {
   "cell_type": "markdown",
   "metadata": {},
   "source": [
    "TO MAKE SURE WE SCRAPED ALL THE USERS!"
   ]
  },
  {
   "cell_type": "code",
   "execution_count": 9,
   "metadata": {},
   "outputs": [],
   "source": [
    "us = list(df.username.unique())"
   ]
  },
  {
   "cell_type": "code",
   "execution_count": 35,
   "metadata": {},
   "outputs": [],
   "source": [
    "# li = list(li.username)"
   ]
  },
  {
   "cell_type": "code",
   "execution_count": 36,
   "metadata": {},
   "outputs": [],
   "source": [
    "# oh = list(set(us).intersection(li))"
   ]
  },
  {
   "cell_type": "code",
   "execution_count": 127,
   "metadata": {},
   "outputs": [
    {
     "data": {
      "text/plain": [
       "675"
      ]
     },
     "execution_count": 127,
     "metadata": {},
     "output_type": "execute_result"
    }
   ],
   "source": [
    "len(oh)"
   ]
  },
  {
   "cell_type": "markdown",
   "metadata": {},
   "source": [
    "The dif between the wto lists is 1, so we're mostly good"
   ]
  },
  {
   "cell_type": "code",
   "execution_count": 128,
   "metadata": {},
   "outputs": [
    {
     "data": {
      "text/plain": [
       "1"
      ]
     },
     "execution_count": 128,
     "metadata": {},
     "output_type": "execute_result"
    }
   ],
   "source": [
    "len([item for item in li if item not in us])"
   ]
  },
  {
   "cell_type": "code",
   "execution_count": 10,
   "metadata": {},
   "outputs": [
    {
     "data": {
      "text/plain": [
       "607986"
      ]
     },
     "execution_count": 10,
     "metadata": {},
     "output_type": "execute_result"
    }
   ],
   "source": [
    "# check id is unique\n",
    "df.id.nunique()"
   ]
  },
  {
   "cell_type": "code",
   "execution_count": 11,
   "metadata": {},
   "outputs": [],
   "source": [
    "# set id to be index\n",
    "df.set_index('id', inplace=True)"
   ]
  },
  {
   "cell_type": "code",
   "execution_count": 37,
   "metadata": {},
   "outputs": [],
   "source": [
    "# define lang detect function\n",
    "def lang(x):\n",
    "    try:\n",
    "        a = detect(x)\n",
    "    except:\n",
    "        a = 0\n",
    "    return a"
   ]
  },
  {
   "cell_type": "markdown",
   "metadata": {},
   "source": [
    "Apply language detection function to the entire dataframe"
   ]
  },
  {
   "cell_type": "code",
   "execution_count": null,
   "metadata": {},
   "outputs": [
    {
     "data": {
      "application/vnd.jupyter.widget-view+json": {
       "model_id": "22b9b6754ecc46adbf25c6f153e4a2c8",
       "version_major": 2,
       "version_minor": 0
      },
      "text/plain": [
       "HBox(children=(IntProgress(value=0, max=607986), HTML(value='')))"
      ]
     },
     "metadata": {},
     "output_type": "display_data"
    }
   ],
   "source": [
    "df['lang'] = df.tweet.progress_apply(lambda x : 1 if lang(x) == 'en' else 0)"
   ]
  },
  {
   "cell_type": "code",
   "execution_count": 138,
   "metadata": {},
   "outputs": [],
   "source": [
    "df.to_csv('tweets_finale_full_lang.csv')"
   ]
  },
  {
   "cell_type": "code",
   "execution_count": 176,
   "metadata": {},
   "outputs": [
    {
     "data": {
      "text/plain": [
       "901"
      ]
     },
     "execution_count": 176,
     "metadata": {},
     "output_type": "execute_result"
    }
   ],
   "source": [
    "df.username.nunique()"
   ]
  },
  {
   "cell_type": "code",
   "execution_count": 13,
   "metadata": {},
   "outputs": [
    {
     "name": "stderr",
     "output_type": "stream",
     "text": [
      "/Users/LujFel/anaconda3/lib/python3.7/site-packages/IPython/core/interactiveshell.py:2785: DtypeWarning: Columns (0,1,2,3,4,5,6,8,9,10,11,12,13,14,19,20,22) have mixed types. Specify dtype option on import or set low_memory=False.\n",
      "  interactivity=interactivity, compiler=compiler, result=result)\n"
     ]
    }
   ],
   "source": [
    "df_easy = pd.read_csv('tweets_finale_full_lang.csv')"
   ]
  },
  {
   "cell_type": "code",
   "execution_count": 14,
   "metadata": {},
   "outputs": [
    {
     "data": {
      "text/html": [
       "<div>\n",
       "<style scoped>\n",
       "    .dataframe tbody tr th:only-of-type {\n",
       "        vertical-align: middle;\n",
       "    }\n",
       "\n",
       "    .dataframe tbody tr th {\n",
       "        vertical-align: top;\n",
       "    }\n",
       "\n",
       "    .dataframe thead th {\n",
       "        text-align: right;\n",
       "    }\n",
       "</style>\n",
       "<table border=\"1\" class=\"dataframe\">\n",
       "  <thead>\n",
       "    <tr style=\"text-align: right;\">\n",
       "      <th></th>\n",
       "      <th>Unnamed: 0</th>\n",
       "      <th>id</th>\n",
       "      <th>conversation_id</th>\n",
       "      <th>created_at</th>\n",
       "      <th>date</th>\n",
       "      <th>time</th>\n",
       "      <th>timezone</th>\n",
       "      <th>user_id</th>\n",
       "      <th>username</th>\n",
       "      <th>name</th>\n",
       "      <th>place</th>\n",
       "      <th>tweet</th>\n",
       "      <th>mentions</th>\n",
       "      <th>urls</th>\n",
       "      <th>photos</th>\n",
       "      <th>replies_count</th>\n",
       "      <th>retweets_count</th>\n",
       "      <th>likes_count</th>\n",
       "      <th>location</th>\n",
       "      <th>hashtags</th>\n",
       "      <th>link</th>\n",
       "      <th>retweet</th>\n",
       "      <th>quote_url</th>\n",
       "      <th>video</th>\n",
       "      <th>lang</th>\n",
       "    </tr>\n",
       "  </thead>\n",
       "  <tbody>\n",
       "    <tr>\n",
       "      <th>0</th>\n",
       "      <td>0</td>\n",
       "      <td>1.08765e+18</td>\n",
       "      <td>1.08765e+18</td>\n",
       "      <td>1.54815e+12</td>\n",
       "      <td>2019-01-22</td>\n",
       "      <td>10:05:04</td>\n",
       "      <td>UTC</td>\n",
       "      <td>549184853.0</td>\n",
       "      <td>0504537439</td>\n",
       "      <td>مجموعه الشنبري العقاريه مكه المكرمه</td>\n",
       "      <td>NaN</td>\n",
       "      <td>pic.twitter.com/oqW8eeHfwg</td>\n",
       "      <td>NaN</td>\n",
       "      <td>[]</td>\n",
       "      <td>['https://pbs.twimg.com/media/DxgeDVpX0AAd1mV....</td>\n",
       "      <td>0.0</td>\n",
       "      <td>0.0</td>\n",
       "      <td>0.0</td>\n",
       "      <td>NaN</td>\n",
       "      <td>NaN</td>\n",
       "      <td>https://twitter.com/0504537439/status/10876523...</td>\n",
       "      <td>NaN</td>\n",
       "      <td>NaN</td>\n",
       "      <td>0.0</td>\n",
       "      <td>1.0</td>\n",
       "    </tr>\n",
       "    <tr>\n",
       "      <th>1</th>\n",
       "      <td>1</td>\n",
       "      <td>1.08192e+18</td>\n",
       "      <td>1.08192e+18</td>\n",
       "      <td>1.54678e+12</td>\n",
       "      <td>2019-01-06</td>\n",
       "      <td>14:09:24</td>\n",
       "      <td>UTC</td>\n",
       "      <td>549184853.0</td>\n",
       "      <td>0504537439</td>\n",
       "      <td>مجموعه الشنبري العقاريه مكه المكرمه</td>\n",
       "      <td>NaN</td>\n",
       "      <td>pic.twitter.com/Rx6NyiZf9T</td>\n",
       "      <td>NaN</td>\n",
       "      <td>[]</td>\n",
       "      <td>['https://pbs.twimg.com/media/DwO8h4_WoAAa6ii....</td>\n",
       "      <td>0.0</td>\n",
       "      <td>0.0</td>\n",
       "      <td>1.0</td>\n",
       "      <td>NaN</td>\n",
       "      <td>NaN</td>\n",
       "      <td>https://twitter.com/0504537439/status/10819156...</td>\n",
       "      <td>NaN</td>\n",
       "      <td>NaN</td>\n",
       "      <td>0.0</td>\n",
       "      <td>1.0</td>\n",
       "    </tr>\n",
       "    <tr>\n",
       "      <th>2</th>\n",
       "      <td>2</td>\n",
       "      <td>1.07566e+18</td>\n",
       "      <td>1.07566e+18</td>\n",
       "      <td>1.54529e+12</td>\n",
       "      <td>2018-12-20</td>\n",
       "      <td>08:01:09</td>\n",
       "      <td>UTC</td>\n",
       "      <td>549184853.0</td>\n",
       "      <td>0504537439</td>\n",
       "      <td>مجموعه الشنبري العقاريه مكه المكرمه</td>\n",
       "      <td>NaN</td>\n",
       "      <td>pic.twitter.com/JMWD460YSh</td>\n",
       "      <td>NaN</td>\n",
       "      <td>[]</td>\n",
       "      <td>['https://pbs.twimg.com/media/Du2FN1hWkAAVSqQ....</td>\n",
       "      <td>2.0</td>\n",
       "      <td>0.0</td>\n",
       "      <td>1.0</td>\n",
       "      <td>NaN</td>\n",
       "      <td>NaN</td>\n",
       "      <td>https://twitter.com/0504537439/status/10756623...</td>\n",
       "      <td>NaN</td>\n",
       "      <td>NaN</td>\n",
       "      <td>0.0</td>\n",
       "      <td>1.0</td>\n",
       "    </tr>\n",
       "    <tr>\n",
       "      <th>3</th>\n",
       "      <td>3</td>\n",
       "      <td>1.05086e+18</td>\n",
       "      <td>1.05085e+18</td>\n",
       "      <td>1.53938e+12</td>\n",
       "      <td>2018-10-12</td>\n",
       "      <td>21:10:15</td>\n",
       "      <td>UTC</td>\n",
       "      <td>549184853.0</td>\n",
       "      <td>0504537439</td>\n",
       "      <td>مجموعه الشنبري العقاريه مكه المكرمه</td>\n",
       "      <td>NaN</td>\n",
       "      <td>pic.twitter.com/qOgexGGqmT</td>\n",
       "      <td>NaN</td>\n",
       "      <td>[]</td>\n",
       "      <td>['https://pbs.twimg.com/media/DpVkITCW4AUQZu6....</td>\n",
       "      <td>0.0</td>\n",
       "      <td>2.0</td>\n",
       "      <td>1.0</td>\n",
       "      <td>NaN</td>\n",
       "      <td>NaN</td>\n",
       "      <td>https://twitter.com/0504537439/status/10508561...</td>\n",
       "      <td>NaN</td>\n",
       "      <td>NaN</td>\n",
       "      <td>0.0</td>\n",
       "      <td>1.0</td>\n",
       "    </tr>\n",
       "    <tr>\n",
       "      <th>4</th>\n",
       "      <td>4</td>\n",
       "      <td>1.05085e+18</td>\n",
       "      <td>1.05085e+18</td>\n",
       "      <td>1.53938e+12</td>\n",
       "      <td>2018-10-12</td>\n",
       "      <td>21:03:24</td>\n",
       "      <td>UTC</td>\n",
       "      <td>549184853.0</td>\n",
       "      <td>0504537439</td>\n",
       "      <td>مجموعه الشنبري العقاريه مكه المكرمه</td>\n",
       "      <td>NaN</td>\n",
       "      <td>في الطايف المأنوس مع لفيف من الاشراف وفي ضيافة...</td>\n",
       "      <td>NaN</td>\n",
       "      <td>[]</td>\n",
       "      <td>['https://pbs.twimg.com/media/DpViiY5XUAEVc9B....</td>\n",
       "      <td>1.0</td>\n",
       "      <td>3.0</td>\n",
       "      <td>6.0</td>\n",
       "      <td>NaN</td>\n",
       "      <td>NaN</td>\n",
       "      <td>https://twitter.com/0504537439/status/10508544...</td>\n",
       "      <td>NaN</td>\n",
       "      <td>NaN</td>\n",
       "      <td>0.0</td>\n",
       "      <td>0.0</td>\n",
       "    </tr>\n",
       "  </tbody>\n",
       "</table>\n",
       "</div>"
      ],
      "text/plain": [
       "  Unnamed: 0           id conversation_id   created_at        date      time  \\\n",
       "0          0  1.08765e+18     1.08765e+18  1.54815e+12  2019-01-22  10:05:04   \n",
       "1          1  1.08192e+18     1.08192e+18  1.54678e+12  2019-01-06  14:09:24   \n",
       "2          2  1.07566e+18     1.07566e+18  1.54529e+12  2018-12-20  08:01:09   \n",
       "3          3  1.05086e+18     1.05085e+18  1.53938e+12  2018-10-12  21:10:15   \n",
       "4          4  1.05085e+18     1.05085e+18  1.53938e+12  2018-10-12  21:03:24   \n",
       "\n",
       "  timezone      user_id    username                                 name  \\\n",
       "0      UTC  549184853.0  0504537439  مجموعه الشنبري العقاريه مكه المكرمه   \n",
       "1      UTC  549184853.0  0504537439  مجموعه الشنبري العقاريه مكه المكرمه   \n",
       "2      UTC  549184853.0  0504537439  مجموعه الشنبري العقاريه مكه المكرمه   \n",
       "3      UTC  549184853.0  0504537439  مجموعه الشنبري العقاريه مكه المكرمه   \n",
       "4      UTC  549184853.0  0504537439  مجموعه الشنبري العقاريه مكه المكرمه   \n",
       "\n",
       "  place                                              tweet mentions urls  \\\n",
       "0   NaN                         pic.twitter.com/oqW8eeHfwg      NaN   []   \n",
       "1   NaN                         pic.twitter.com/Rx6NyiZf9T      NaN   []   \n",
       "2   NaN                         pic.twitter.com/JMWD460YSh      NaN   []   \n",
       "3   NaN                         pic.twitter.com/qOgexGGqmT      NaN   []   \n",
       "4   NaN  في الطايف المأنوس مع لفيف من الاشراف وفي ضيافة...      NaN   []   \n",
       "\n",
       "                                              photos  replies_count  \\\n",
       "0  ['https://pbs.twimg.com/media/DxgeDVpX0AAd1mV....            0.0   \n",
       "1  ['https://pbs.twimg.com/media/DwO8h4_WoAAa6ii....            0.0   \n",
       "2  ['https://pbs.twimg.com/media/Du2FN1hWkAAVSqQ....            2.0   \n",
       "3  ['https://pbs.twimg.com/media/DpVkITCW4AUQZu6....            0.0   \n",
       "4  ['https://pbs.twimg.com/media/DpViiY5XUAEVc9B....            1.0   \n",
       "\n",
       "   retweets_count  likes_count  location hashtags  \\\n",
       "0             0.0          0.0       NaN      NaN   \n",
       "1             0.0          1.0       NaN      NaN   \n",
       "2             0.0          1.0       NaN      NaN   \n",
       "3             2.0          1.0       NaN      NaN   \n",
       "4             3.0          6.0       NaN      NaN   \n",
       "\n",
       "                                                link  retweet quote_url  \\\n",
       "0  https://twitter.com/0504537439/status/10876523...      NaN       NaN   \n",
       "1  https://twitter.com/0504537439/status/10819156...      NaN       NaN   \n",
       "2  https://twitter.com/0504537439/status/10756623...      NaN       NaN   \n",
       "3  https://twitter.com/0504537439/status/10508561...      NaN       NaN   \n",
       "4  https://twitter.com/0504537439/status/10508544...      NaN       NaN   \n",
       "\n",
       "   video  lang  \n",
       "0    0.0   1.0  \n",
       "1    0.0   1.0  \n",
       "2    0.0   1.0  \n",
       "3    0.0   1.0  \n",
       "4    0.0   0.0  "
      ]
     },
     "execution_count": 14,
     "metadata": {},
     "output_type": "execute_result"
    }
   ],
   "source": [
    "df_easy.head()"
   ]
  },
  {
   "cell_type": "code",
   "execution_count": 15,
   "metadata": {},
   "outputs": [
    {
     "name": "stdout",
     "output_type": "stream",
     "text": [
      "<class 'pandas.core.frame.DataFrame'>\n",
      "RangeIndex: 1138626 entries, 0 to 1138625\n",
      "Data columns (total 25 columns):\n",
      "Unnamed: 0         1073090 non-null object\n",
      "id                 953297 non-null object\n",
      "conversation_id    953334 non-null object\n",
      "created_at         953257 non-null object\n",
      "date               953334 non-null object\n",
      "time               953334 non-null object\n",
      "timezone           953334 non-null object\n",
      "user_id            953253 non-null float64\n",
      "username           953310 non-null object\n",
      "name               953334 non-null object\n",
      "place              192 non-null object\n",
      "tweet              953253 non-null object\n",
      "mentions           251196 non-null object\n",
      "urls               607986 non-null object\n",
      "photos             76746 non-null object\n",
      "replies_count      607905 non-null float64\n",
      "retweets_count     607905 non-null float64\n",
      "likes_count        607905 non-null float64\n",
      "location           0 non-null float64\n",
      "hashtags           129989 non-null object\n",
      "link               607905 non-null object\n",
      "retweet            0 non-null float64\n",
      "quote_url          36154 non-null object\n",
      "video              607905 non-null float64\n",
      "lang               607905 non-null float64\n",
      "dtypes: float64(8), object(17)\n",
      "memory usage: 217.2+ MB\n"
     ]
    }
   ],
   "source": [
    "df_easy.info()"
   ]
  },
  {
   "cell_type": "code",
   "execution_count": 16,
   "metadata": {},
   "outputs": [],
   "source": [
    "df_easy = df.drop(columns = ['conversation_id', 'created_at', 'user_id', 'name', 'urls', 'photos',\n",
    "                             'location', 'link', 'retweet', 'place'] , axis=1)"
   ]
  },
  {
   "cell_type": "code",
   "execution_count": 17,
   "metadata": {},
   "outputs": [
    {
     "data": {
      "text/html": [
       "<div>\n",
       "<style scoped>\n",
       "    .dataframe tbody tr th:only-of-type {\n",
       "        vertical-align: middle;\n",
       "    }\n",
       "\n",
       "    .dataframe tbody tr th {\n",
       "        vertical-align: top;\n",
       "    }\n",
       "\n",
       "    .dataframe thead th {\n",
       "        text-align: right;\n",
       "    }\n",
       "</style>\n",
       "<table border=\"1\" class=\"dataframe\">\n",
       "  <thead>\n",
       "    <tr style=\"text-align: right;\">\n",
       "      <th></th>\n",
       "      <th>date</th>\n",
       "      <th>time</th>\n",
       "      <th>timezone</th>\n",
       "      <th>username</th>\n",
       "      <th>tweet</th>\n",
       "      <th>mentions</th>\n",
       "      <th>replies_count</th>\n",
       "      <th>retweets_count</th>\n",
       "      <th>likes_count</th>\n",
       "      <th>hashtags</th>\n",
       "      <th>quote_url</th>\n",
       "      <th>video</th>\n",
       "    </tr>\n",
       "    <tr>\n",
       "      <th>id</th>\n",
       "      <th></th>\n",
       "      <th></th>\n",
       "      <th></th>\n",
       "      <th></th>\n",
       "      <th></th>\n",
       "      <th></th>\n",
       "      <th></th>\n",
       "      <th></th>\n",
       "      <th></th>\n",
       "      <th></th>\n",
       "      <th></th>\n",
       "      <th></th>\n",
       "    </tr>\n",
       "  </thead>\n",
       "  <tbody>\n",
       "    <tr>\n",
       "      <th>1087652359809970176</th>\n",
       "      <td>2019-01-22</td>\n",
       "      <td>10:05:04</td>\n",
       "      <td>UTC</td>\n",
       "      <td>0504537439</td>\n",
       "      <td>pic.twitter.com/oqW8eeHfwg</td>\n",
       "      <td>NaN</td>\n",
       "      <td>0</td>\n",
       "      <td>0</td>\n",
       "      <td>0</td>\n",
       "      <td>[]</td>\n",
       "      <td>NaN</td>\n",
       "      <td>0</td>\n",
       "    </tr>\n",
       "    <tr>\n",
       "      <th>1081915639554625541</th>\n",
       "      <td>2019-01-06</td>\n",
       "      <td>14:09:24</td>\n",
       "      <td>UTC</td>\n",
       "      <td>0504537439</td>\n",
       "      <td>pic.twitter.com/Rx6NyiZf9T</td>\n",
       "      <td>NaN</td>\n",
       "      <td>0</td>\n",
       "      <td>0</td>\n",
       "      <td>1</td>\n",
       "      <td>[]</td>\n",
       "      <td>NaN</td>\n",
       "      <td>0</td>\n",
       "    </tr>\n",
       "    <tr>\n",
       "      <th>1075662373841707009</th>\n",
       "      <td>2018-12-20</td>\n",
       "      <td>08:01:09</td>\n",
       "      <td>UTC</td>\n",
       "      <td>0504537439</td>\n",
       "      <td>pic.twitter.com/JMWD460YSh</td>\n",
       "      <td>NaN</td>\n",
       "      <td>2</td>\n",
       "      <td>0</td>\n",
       "      <td>1</td>\n",
       "      <td>[]</td>\n",
       "      <td>NaN</td>\n",
       "      <td>0</td>\n",
       "    </tr>\n",
       "    <tr>\n",
       "      <th>1050856196327043072</th>\n",
       "      <td>2018-10-12</td>\n",
       "      <td>21:10:15</td>\n",
       "      <td>UTC</td>\n",
       "      <td>0504537439</td>\n",
       "      <td>pic.twitter.com/qOgexGGqmT</td>\n",
       "      <td>NaN</td>\n",
       "      <td>0</td>\n",
       "      <td>2</td>\n",
       "      <td>1</td>\n",
       "      <td>[]</td>\n",
       "      <td>NaN</td>\n",
       "      <td>0</td>\n",
       "    </tr>\n",
       "    <tr>\n",
       "      <th>1050854469775347712</th>\n",
       "      <td>2018-10-12</td>\n",
       "      <td>21:03:24</td>\n",
       "      <td>UTC</td>\n",
       "      <td>0504537439</td>\n",
       "      <td>في الطايف المأنوس مع لفيف من الاشراف وفي ضيافة...</td>\n",
       "      <td>NaN</td>\n",
       "      <td>1</td>\n",
       "      <td>3</td>\n",
       "      <td>6</td>\n",
       "      <td>[]</td>\n",
       "      <td>NaN</td>\n",
       "      <td>0</td>\n",
       "    </tr>\n",
       "  </tbody>\n",
       "</table>\n",
       "</div>"
      ],
      "text/plain": [
       "                           date      time timezone    username  \\\n",
       "id                                                               \n",
       "1087652359809970176  2019-01-22  10:05:04      UTC  0504537439   \n",
       "1081915639554625541  2019-01-06  14:09:24      UTC  0504537439   \n",
       "1075662373841707009  2018-12-20  08:01:09      UTC  0504537439   \n",
       "1050856196327043072  2018-10-12  21:10:15      UTC  0504537439   \n",
       "1050854469775347712  2018-10-12  21:03:24      UTC  0504537439   \n",
       "\n",
       "                                                                 tweet  \\\n",
       "id                                                                       \n",
       "1087652359809970176                         pic.twitter.com/oqW8eeHfwg   \n",
       "1081915639554625541                         pic.twitter.com/Rx6NyiZf9T   \n",
       "1075662373841707009                         pic.twitter.com/JMWD460YSh   \n",
       "1050856196327043072                         pic.twitter.com/qOgexGGqmT   \n",
       "1050854469775347712  في الطايف المأنوس مع لفيف من الاشراف وفي ضيافة...   \n",
       "\n",
       "                    mentions  replies_count  retweets_count  likes_count  \\\n",
       "id                                                                         \n",
       "1087652359809970176      NaN              0               0            0   \n",
       "1081915639554625541      NaN              0               0            1   \n",
       "1075662373841707009      NaN              2               0            1   \n",
       "1050856196327043072      NaN              0               2            1   \n",
       "1050854469775347712      NaN              1               3            6   \n",
       "\n",
       "                    hashtags quote_url  video  \n",
       "id                                             \n",
       "1087652359809970176       []       NaN      0  \n",
       "1081915639554625541       []       NaN      0  \n",
       "1075662373841707009       []       NaN      0  \n",
       "1050856196327043072       []       NaN      0  \n",
       "1050854469775347712       []       NaN      0  "
      ]
     },
     "execution_count": 17,
     "metadata": {},
     "output_type": "execute_result"
    }
   ],
   "source": [
    "df_easy.head()"
   ]
  },
  {
   "cell_type": "code",
   "execution_count": 18,
   "metadata": {},
   "outputs": [
    {
     "name": "stdout",
     "output_type": "stream",
     "text": [
      "<class 'pandas.core.frame.DataFrame'>\n",
      "Int64Index: 607986 entries, 1087652359809970176 to 244861225371045888\n",
      "Data columns (total 12 columns):\n",
      "date              607986 non-null object\n",
      "time              607986 non-null object\n",
      "timezone          607986 non-null object\n",
      "username          607986 non-null object\n",
      "tweet             607986 non-null object\n",
      "mentions          251159 non-null object\n",
      "replies_count     607986 non-null int64\n",
      "retweets_count    607986 non-null int64\n",
      "likes_count       607986 non-null int64\n",
      "hashtags          607986 non-null object\n",
      "quote_url         36154 non-null object\n",
      "video             607986 non-null int64\n",
      "dtypes: int64(4), object(8)\n",
      "memory usage: 60.3+ MB\n"
     ]
    }
   ],
   "source": [
    "df_easy.info()"
   ]
  },
  {
   "cell_type": "code",
   "execution_count": 151,
   "metadata": {},
   "outputs": [],
   "source": [
    "df_easy.to_csv('tweets_finale_full_lang_dropped.csv')"
   ]
  },
  {
   "cell_type": "code",
   "execution_count": 19,
   "metadata": {},
   "outputs": [
    {
     "name": "stderr",
     "output_type": "stream",
     "text": [
      "/Users/LujFel/anaconda3/lib/python3.7/site-packages/IPython/core/interactiveshell.py:2785: DtypeWarning: Columns (0,1,2,3,4,5,6,7,11,12) have mixed types. Specify dtype option on import or set low_memory=False.\n",
      "  interactivity=interactivity, compiler=compiler, result=result)\n"
     ]
    }
   ],
   "source": [
    "af = pd.read_csv('tweets_finale_full_lang_dropped.csv')"
   ]
  },
  {
   "cell_type": "code",
   "execution_count": 20,
   "metadata": {},
   "outputs": [],
   "source": [
    "af.drop_duplicates(inplace=True)"
   ]
  },
  {
   "cell_type": "code",
   "execution_count": 21,
   "metadata": {},
   "outputs": [
    {
     "name": "stdout",
     "output_type": "stream",
     "text": [
      "<class 'pandas.core.frame.DataFrame'>\n",
      "Int64Index: 608087 entries, 0 to 1793985\n",
      "Data columns (total 15 columns):\n",
      "Unnamed: 0        608086 non-null object\n",
      "id                608030 non-null object\n",
      "date              608067 non-null object\n",
      "time              608067 non-null object\n",
      "timezone          608067 non-null object\n",
      "username          608043 non-null object\n",
      "tweet             607986 non-null object\n",
      "mentions          251196 non-null object\n",
      "replies_count     607986 non-null float64\n",
      "retweets_count    607905 non-null float64\n",
      "likes_count       607905 non-null float64\n",
      "hashtags          129989 non-null object\n",
      "quote_url         36154 non-null object\n",
      "video             607905 non-null float64\n",
      "lang              607905 non-null float64\n",
      "dtypes: float64(5), object(10)\n",
      "memory usage: 74.2+ MB\n"
     ]
    }
   ],
   "source": [
    "af.info()"
   ]
  },
  {
   "cell_type": "code",
   "execution_count": 22,
   "metadata": {},
   "outputs": [
    {
     "data": {
      "text/html": [
       "<div>\n",
       "<style scoped>\n",
       "    .dataframe tbody tr th:only-of-type {\n",
       "        vertical-align: middle;\n",
       "    }\n",
       "\n",
       "    .dataframe tbody tr th {\n",
       "        vertical-align: top;\n",
       "    }\n",
       "\n",
       "    .dataframe thead th {\n",
       "        text-align: right;\n",
       "    }\n",
       "</style>\n",
       "<table border=\"1\" class=\"dataframe\">\n",
       "  <thead>\n",
       "    <tr style=\"text-align: right;\">\n",
       "      <th></th>\n",
       "      <th>Unnamed: 0</th>\n",
       "      <th>id</th>\n",
       "      <th>date</th>\n",
       "      <th>time</th>\n",
       "      <th>timezone</th>\n",
       "      <th>username</th>\n",
       "      <th>tweet</th>\n",
       "      <th>mentions</th>\n",
       "      <th>replies_count</th>\n",
       "      <th>retweets_count</th>\n",
       "      <th>likes_count</th>\n",
       "      <th>hashtags</th>\n",
       "      <th>quote_url</th>\n",
       "      <th>video</th>\n",
       "      <th>lang</th>\n",
       "    </tr>\n",
       "  </thead>\n",
       "  <tbody>\n",
       "    <tr>\n",
       "      <th>0</th>\n",
       "      <td>0</td>\n",
       "      <td>1.08765e+18</td>\n",
       "      <td>2019-01-22</td>\n",
       "      <td>10:05:04</td>\n",
       "      <td>UTC</td>\n",
       "      <td>0504537439</td>\n",
       "      <td>pic.twitter.com/oqW8eeHfwg</td>\n",
       "      <td>NaN</td>\n",
       "      <td>0.0</td>\n",
       "      <td>0.0</td>\n",
       "      <td>0.0</td>\n",
       "      <td>NaN</td>\n",
       "      <td>NaN</td>\n",
       "      <td>0.0</td>\n",
       "      <td>1.0</td>\n",
       "    </tr>\n",
       "    <tr>\n",
       "      <th>1</th>\n",
       "      <td>1</td>\n",
       "      <td>1.08192e+18</td>\n",
       "      <td>2019-01-06</td>\n",
       "      <td>14:09:24</td>\n",
       "      <td>UTC</td>\n",
       "      <td>0504537439</td>\n",
       "      <td>pic.twitter.com/Rx6NyiZf9T</td>\n",
       "      <td>NaN</td>\n",
       "      <td>0.0</td>\n",
       "      <td>0.0</td>\n",
       "      <td>1.0</td>\n",
       "      <td>NaN</td>\n",
       "      <td>NaN</td>\n",
       "      <td>0.0</td>\n",
       "      <td>1.0</td>\n",
       "    </tr>\n",
       "    <tr>\n",
       "      <th>2</th>\n",
       "      <td>2</td>\n",
       "      <td>1.07566e+18</td>\n",
       "      <td>2018-12-20</td>\n",
       "      <td>08:01:09</td>\n",
       "      <td>UTC</td>\n",
       "      <td>0504537439</td>\n",
       "      <td>pic.twitter.com/JMWD460YSh</td>\n",
       "      <td>NaN</td>\n",
       "      <td>2.0</td>\n",
       "      <td>0.0</td>\n",
       "      <td>1.0</td>\n",
       "      <td>NaN</td>\n",
       "      <td>NaN</td>\n",
       "      <td>0.0</td>\n",
       "      <td>1.0</td>\n",
       "    </tr>\n",
       "    <tr>\n",
       "      <th>3</th>\n",
       "      <td>3</td>\n",
       "      <td>1.05086e+18</td>\n",
       "      <td>2018-10-12</td>\n",
       "      <td>21:10:15</td>\n",
       "      <td>UTC</td>\n",
       "      <td>0504537439</td>\n",
       "      <td>pic.twitter.com/qOgexGGqmT</td>\n",
       "      <td>NaN</td>\n",
       "      <td>0.0</td>\n",
       "      <td>2.0</td>\n",
       "      <td>1.0</td>\n",
       "      <td>NaN</td>\n",
       "      <td>NaN</td>\n",
       "      <td>0.0</td>\n",
       "      <td>1.0</td>\n",
       "    </tr>\n",
       "    <tr>\n",
       "      <th>4</th>\n",
       "      <td>4</td>\n",
       "      <td>1.05085e+18</td>\n",
       "      <td>2018-10-12</td>\n",
       "      <td>21:03:24</td>\n",
       "      <td>UTC</td>\n",
       "      <td>0504537439</td>\n",
       "      <td>في الطايف المأنوس مع لفيف من الاشراف وفي ضيافة...</td>\n",
       "      <td>NaN</td>\n",
       "      <td>1.0</td>\n",
       "      <td>3.0</td>\n",
       "      <td>6.0</td>\n",
       "      <td>NaN</td>\n",
       "      <td>NaN</td>\n",
       "      <td>0.0</td>\n",
       "      <td>0.0</td>\n",
       "    </tr>\n",
       "  </tbody>\n",
       "</table>\n",
       "</div>"
      ],
      "text/plain": [
       "  Unnamed: 0           id        date      time timezone    username  \\\n",
       "0          0  1.08765e+18  2019-01-22  10:05:04      UTC  0504537439   \n",
       "1          1  1.08192e+18  2019-01-06  14:09:24      UTC  0504537439   \n",
       "2          2  1.07566e+18  2018-12-20  08:01:09      UTC  0504537439   \n",
       "3          3  1.05086e+18  2018-10-12  21:10:15      UTC  0504537439   \n",
       "4          4  1.05085e+18  2018-10-12  21:03:24      UTC  0504537439   \n",
       "\n",
       "                                               tweet mentions  replies_count  \\\n",
       "0                         pic.twitter.com/oqW8eeHfwg      NaN            0.0   \n",
       "1                         pic.twitter.com/Rx6NyiZf9T      NaN            0.0   \n",
       "2                         pic.twitter.com/JMWD460YSh      NaN            2.0   \n",
       "3                         pic.twitter.com/qOgexGGqmT      NaN            0.0   \n",
       "4  في الطايف المأنوس مع لفيف من الاشراف وفي ضيافة...      NaN            1.0   \n",
       "\n",
       "   retweets_count  likes_count hashtags quote_url  video  lang  \n",
       "0             0.0          0.0      NaN       NaN    0.0   1.0  \n",
       "1             0.0          1.0      NaN       NaN    0.0   1.0  \n",
       "2             0.0          1.0      NaN       NaN    0.0   1.0  \n",
       "3             2.0          1.0      NaN       NaN    0.0   1.0  \n",
       "4             3.0          6.0      NaN       NaN    0.0   0.0  "
      ]
     },
     "execution_count": 22,
     "metadata": {},
     "output_type": "execute_result"
    }
   ],
   "source": [
    "af.head()"
   ]
  },
  {
   "cell_type": "code",
   "execution_count": 23,
   "metadata": {},
   "outputs": [
    {
     "data": {
      "text/plain": [
       "933"
      ]
     },
     "execution_count": 23,
     "metadata": {},
     "output_type": "execute_result"
    }
   ],
   "source": [
    "af.username.nunique()"
   ]
  },
  {
   "cell_type": "markdown",
   "metadata": {},
   "source": [
    "Make sure we only have tweets of en usernames"
   ]
  },
  {
   "cell_type": "code",
   "execution_count": null,
   "metadata": {},
   "outputs": [],
   "source": [
    "bf = af[af.username.isin(uslist)]\n",
    "bf.head()"
   ]
  },
  {
   "cell_type": "code",
   "execution_count": 206,
   "metadata": {},
   "outputs": [],
   "source": [
    "bf.to_csv('tweets_finale_finale2_lang.csv')"
   ]
  },
  {
   "cell_type": "code",
   "execution_count": 31,
   "metadata": {},
   "outputs": [
    {
     "name": "stdout",
     "output_type": "stream",
     "text": [
      "<class 'pandas.core.frame.DataFrame'>\n",
      "Int64Index: 577563 entries, 114 to 1793985\n",
      "Data columns (total 6 columns):\n",
      "id          577563 non-null object\n",
      "username    577563 non-null object\n",
      "tweet       577563 non-null object\n",
      "mentions    242915 non-null object\n",
      "hashtags    124147 non-null object\n",
      "lang        577487 non-null float64\n",
      "dtypes: float64(1), object(5)\n",
      "memory usage: 30.8+ MB\n"
     ]
    }
   ],
   "source": [
    "bf.info()"
   ]
  },
  {
   "cell_type": "code",
   "execution_count": 35,
   "metadata": {},
   "outputs": [
    {
     "data": {
      "text/html": [
       "<div>\n",
       "<style scoped>\n",
       "    .dataframe tbody tr th:only-of-type {\n",
       "        vertical-align: middle;\n",
       "    }\n",
       "\n",
       "    .dataframe tbody tr th {\n",
       "        vertical-align: top;\n",
       "    }\n",
       "\n",
       "    .dataframe thead th {\n",
       "        text-align: right;\n",
       "    }\n",
       "</style>\n",
       "<table border=\"1\" class=\"dataframe\">\n",
       "  <thead>\n",
       "    <tr style=\"text-align: right;\">\n",
       "      <th></th>\n",
       "      <th>id</th>\n",
       "      <th>username</th>\n",
       "      <th>tweet</th>\n",
       "      <th>mentions</th>\n",
       "      <th>hashtags</th>\n",
       "      <th>lang</th>\n",
       "    </tr>\n",
       "  </thead>\n",
       "  <tbody>\n",
       "    <tr>\n",
       "      <th>0</th>\n",
       "      <td>1.08765e+18</td>\n",
       "      <td>0504537439</td>\n",
       "      <td>pic.twitter.com/oqW8eeHfwg</td>\n",
       "      <td>NaN</td>\n",
       "      <td>NaN</td>\n",
       "      <td>1.0</td>\n",
       "    </tr>\n",
       "    <tr>\n",
       "      <th>1</th>\n",
       "      <td>1.08192e+18</td>\n",
       "      <td>0504537439</td>\n",
       "      <td>pic.twitter.com/Rx6NyiZf9T</td>\n",
       "      <td>NaN</td>\n",
       "      <td>NaN</td>\n",
       "      <td>1.0</td>\n",
       "    </tr>\n",
       "    <tr>\n",
       "      <th>2</th>\n",
       "      <td>1.07566e+18</td>\n",
       "      <td>0504537439</td>\n",
       "      <td>pic.twitter.com/JMWD460YSh</td>\n",
       "      <td>NaN</td>\n",
       "      <td>NaN</td>\n",
       "      <td>1.0</td>\n",
       "    </tr>\n",
       "    <tr>\n",
       "      <th>3</th>\n",
       "      <td>1.05086e+18</td>\n",
       "      <td>0504537439</td>\n",
       "      <td>pic.twitter.com/qOgexGGqmT</td>\n",
       "      <td>NaN</td>\n",
       "      <td>NaN</td>\n",
       "      <td>1.0</td>\n",
       "    </tr>\n",
       "    <tr>\n",
       "      <th>4</th>\n",
       "      <td>1.05085e+18</td>\n",
       "      <td>0504537439</td>\n",
       "      <td>في الطايف المأنوس مع لفيف من الاشراف وفي ضيافة...</td>\n",
       "      <td>NaN</td>\n",
       "      <td>NaN</td>\n",
       "      <td>0.0</td>\n",
       "    </tr>\n",
       "  </tbody>\n",
       "</table>\n",
       "</div>"
      ],
      "text/plain": [
       "            id    username                                              tweet  \\\n",
       "0  1.08765e+18  0504537439                         pic.twitter.com/oqW8eeHfwg   \n",
       "1  1.08192e+18  0504537439                         pic.twitter.com/Rx6NyiZf9T   \n",
       "2  1.07566e+18  0504537439                         pic.twitter.com/JMWD460YSh   \n",
       "3  1.05086e+18  0504537439                         pic.twitter.com/qOgexGGqmT   \n",
       "4  1.05085e+18  0504537439  في الطايف المأنوس مع لفيف من الاشراف وفي ضيافة...   \n",
       "\n",
       "  mentions hashtags  lang  \n",
       "0      NaN      NaN   1.0  \n",
       "1      NaN      NaN   1.0  \n",
       "2      NaN      NaN   1.0  \n",
       "3      NaN      NaN   1.0  \n",
       "4      NaN      NaN   0.0  "
      ]
     },
     "execution_count": 35,
     "metadata": {},
     "output_type": "execute_result"
    }
   ],
   "source": [
    "af.head()"
   ]
  },
  {
   "cell_type": "markdown",
   "metadata": {},
   "source": [
    "Checking language for tweets before starting to clean"
   ]
  },
  {
   "cell_type": "code",
   "execution_count": 37,
   "metadata": {},
   "outputs": [],
   "source": [
    "import re"
   ]
  },
  {
   "cell_type": "markdown",
   "metadata": {},
   "source": [
    "Clean the tweets a bit before cleaning to make sure URLS only tweets are not detected as EN"
   ]
  },
  {
   "cell_type": "code",
   "execution_count": 49,
   "metadata": {},
   "outputs": [
    {
     "data": {
      "text/plain": [
       "'pic.2twitter.com/oqW8eeHfwg'"
      ]
     },
     "execution_count": 49,
     "metadata": {},
     "output_type": "execute_result"
    }
   ],
   "source": [
    "re.sub('pic.twitter.com\\S+', '', str('pic.twitter.com/oqW8eeHfwg'))"
   ]
  },
  {
   "cell_type": "code",
   "execution_count": 62,
   "metadata": {
    "scrolled": true
   },
   "outputs": [
    {
     "data": {
      "text/plain": [
       "0           True\n",
       "1           True\n",
       "2           True\n",
       "3           True\n",
       "4          False\n",
       "5           True\n",
       "6          False\n",
       "7          False\n",
       "8           True\n",
       "9           True\n",
       "10          True\n",
       "11          True\n",
       "12          True\n",
       "13          True\n",
       "14          True\n",
       "15          True\n",
       "16         False\n",
       "17          True\n",
       "18          True\n",
       "19          True\n",
       "20          True\n",
       "21          True\n",
       "22          True\n",
       "23          True\n",
       "24         False\n",
       "25          True\n",
       "26         False\n",
       "27         False\n",
       "28         False\n",
       "29          True\n",
       "           ...  \n",
       "1793956    False\n",
       "1793957    False\n",
       "1793958    False\n",
       "1793959    False\n",
       "1793960    False\n",
       "1793961    False\n",
       "1793962    False\n",
       "1793963    False\n",
       "1793964    False\n",
       "1793965    False\n",
       "1793966    False\n",
       "1793967    False\n",
       "1793968    False\n",
       "1793969    False\n",
       "1793970    False\n",
       "1793971    False\n",
       "1793972    False\n",
       "1793973    False\n",
       "1793974    False\n",
       "1793975    False\n",
       "1793976    False\n",
       "1793977    False\n",
       "1793978    False\n",
       "1793979    False\n",
       "1793980    False\n",
       "1793981    False\n",
       "1793982    False\n",
       "1793983    False\n",
       "1793984    False\n",
       "1793985    False\n",
       "Name: tweet, Length: 608042, dtype: bool"
      ]
     },
     "execution_count": 62,
     "metadata": {},
     "output_type": "execute_result"
    }
   ],
   "source": [
    "af.tweet.map(lambda x : re.sub('pic.twitter.com\\S+', '', str(x))) == ' '"
   ]
  },
  {
   "cell_type": "code",
   "execution_count": 71,
   "metadata": {},
   "outputs": [
    {
     "data": {
      "text/plain": [
       "(577563, 6)"
      ]
     },
     "execution_count": 71,
     "metadata": {},
     "output_type": "execute_result"
    }
   ],
   "source": [
    "bf.shape"
   ]
  },
  {
   "cell_type": "code",
   "execution_count": 72,
   "metadata": {},
   "outputs": [],
   "source": [
    "bf = bf[bf.tweet.str.replace('\\S*pic.twitter.com\\S*', '', regex=True) != ' ']"
   ]
  },
  {
   "cell_type": "code",
   "execution_count": 73,
   "metadata": {},
   "outputs": [
    {
     "data": {
      "text/plain": [
       "(550328, 6)"
      ]
     },
     "execution_count": 73,
     "metadata": {},
     "output_type": "execute_result"
    }
   ],
   "source": [
    "bf.shape"
   ]
  },
  {
   "cell_type": "code",
   "execution_count": 74,
   "metadata": {
    "scrolled": false
   },
   "outputs": [
    {
     "name": "stdout",
     "output_type": "stream",
     "text": [
      "<class 'pandas.core.frame.DataFrame'>\n",
      "Int64Index: 550328 entries, 115 to 1793985\n",
      "Data columns (total 6 columns):\n",
      "id          550328 non-null object\n",
      "username    550328 non-null object\n",
      "tweet       550328 non-null object\n",
      "mentions    240059 non-null object\n",
      "hashtags    124147 non-null object\n",
      "lang        550252 non-null float64\n",
      "dtypes: float64(1), object(5)\n",
      "memory usage: 29.4+ MB\n"
     ]
    }
   ],
   "source": [
    "bf.info()"
   ]
  },
  {
   "cell_type": "markdown",
   "metadata": {},
   "source": [
    "Define username list of users who we have at least 75 english tweets for"
   ]
  },
  {
   "cell_type": "code",
   "execution_count": 75,
   "metadata": {},
   "outputs": [],
   "source": [
    "ef = bf[['username', 'lang']]"
   ]
  },
  {
   "cell_type": "code",
   "execution_count": 76,
   "metadata": {},
   "outputs": [],
   "source": [
    "gf = ef.groupby(['username']).sum()"
   ]
  },
  {
   "cell_type": "code",
   "execution_count": 81,
   "metadata": {},
   "outputs": [],
   "source": [
    "gf2 = gf[gf['lang'] >75]"
   ]
  },
  {
   "cell_type": "code",
   "execution_count": 82,
   "metadata": {},
   "outputs": [
    {
     "name": "stdout",
     "output_type": "stream",
     "text": [
      "<class 'pandas.core.frame.DataFrame'>\n",
      "Index: 429 entries, 10mgp to zoetic_\n",
      "Data columns (total 1 columns):\n",
      "lang    429 non-null float64\n",
      "dtypes: float64(1)\n",
      "memory usage: 6.7+ KB\n"
     ]
    }
   ],
   "source": [
    "gf2.info()"
   ]
  },
  {
   "cell_type": "code",
   "execution_count": 26,
   "metadata": {},
   "outputs": [
    {
     "data": {
      "text/plain": [
       "429"
      ]
     },
     "execution_count": 26,
     "metadata": {},
     "output_type": "execute_result"
    }
   ],
   "source": [
    "# gf2.reset_index(level=0, inplace=True)\n",
    "# gf2[['username']].to_csv('finale_finale_enusers.csv', index=False, header=True)\n",
    "uslist = pd.read_csv('finale_finale_enusers.csv')\n",
    "uslist = list(uslist.username)\n",
    "len(uslist)"
   ]
  },
  {
   "cell_type": "markdown",
   "metadata": {},
   "source": [
    "filter original data frame by english users from filtered list"
   ]
  },
  {
   "cell_type": "code",
   "execution_count": 28,
   "metadata": {},
   "outputs": [
    {
     "data": {
      "text/html": [
       "<div>\n",
       "<style scoped>\n",
       "    .dataframe tbody tr th:only-of-type {\n",
       "        vertical-align: middle;\n",
       "    }\n",
       "\n",
       "    .dataframe tbody tr th {\n",
       "        vertical-align: top;\n",
       "    }\n",
       "\n",
       "    .dataframe thead th {\n",
       "        text-align: right;\n",
       "    }\n",
       "</style>\n",
       "<table border=\"1\" class=\"dataframe\">\n",
       "  <thead>\n",
       "    <tr style=\"text-align: right;\">\n",
       "      <th></th>\n",
       "      <th>Unnamed: 0</th>\n",
       "      <th>id</th>\n",
       "      <th>date</th>\n",
       "      <th>time</th>\n",
       "      <th>timezone</th>\n",
       "      <th>username</th>\n",
       "      <th>tweet</th>\n",
       "      <th>mentions</th>\n",
       "      <th>replies_count</th>\n",
       "      <th>retweets_count</th>\n",
       "      <th>likes_count</th>\n",
       "      <th>hashtags</th>\n",
       "      <th>quote_url</th>\n",
       "      <th>video</th>\n",
       "      <th>lang</th>\n",
       "    </tr>\n",
       "  </thead>\n",
       "  <tbody>\n",
       "    <tr>\n",
       "      <th>351</th>\n",
       "      <td>351</td>\n",
       "      <td>1.0452e+18</td>\n",
       "      <td>2018-09-27</td>\n",
       "      <td>06:47:22</td>\n",
       "      <td>UTC</td>\n",
       "      <td>10mgp</td>\n",
       "      <td>I sure will be Lucy. Couldn’t miss it after se...</td>\n",
       "      <td>['lucylucyprior', 'xrailgroup', 'transcityrail']</td>\n",
       "      <td>1.0</td>\n",
       "      <td>1.0</td>\n",
       "      <td>3.0</td>\n",
       "      <td>NaN</td>\n",
       "      <td>NaN</td>\n",
       "      <td>0.0</td>\n",
       "      <td>1.0</td>\n",
       "    </tr>\n",
       "    <tr>\n",
       "      <th>352</th>\n",
       "      <td>352</td>\n",
       "      <td>1.03669e+18</td>\n",
       "      <td>2018-09-03</td>\n",
       "      <td>18:48:27</td>\n",
       "      <td>UTC</td>\n",
       "      <td>10mgp</td>\n",
       "      <td>.@DarbaarbyAbdul Hi there. Have you guys close...</td>\n",
       "      <td>['darbaarbyabdul']</td>\n",
       "      <td>0.0</td>\n",
       "      <td>0.0</td>\n",
       "      <td>0.0</td>\n",
       "      <td>NaN</td>\n",
       "      <td>NaN</td>\n",
       "      <td>0.0</td>\n",
       "      <td>1.0</td>\n",
       "    </tr>\n",
       "    <tr>\n",
       "      <th>353</th>\n",
       "      <td>353</td>\n",
       "      <td>1.02886e+18</td>\n",
       "      <td>2018-08-13</td>\n",
       "      <td>04:15:16</td>\n",
       "      <td>UTC</td>\n",
       "      <td>10mgp</td>\n",
       "      <td>@British_Airways We are here for your safety a...</td>\n",
       "      <td>['johnmsv', 'emirates', 'british_airways']</td>\n",
       "      <td>1.0</td>\n",
       "      <td>0.0</td>\n",
       "      <td>0.0</td>\n",
       "      <td>NaN</td>\n",
       "      <td>NaN</td>\n",
       "      <td>0.0</td>\n",
       "      <td>1.0</td>\n",
       "    </tr>\n",
       "    <tr>\n",
       "      <th>354</th>\n",
       "      <td>354</td>\n",
       "      <td>1.01914e+18</td>\n",
       "      <td>2018-07-17</td>\n",
       "      <td>08:29:09</td>\n",
       "      <td>UTC</td>\n",
       "      <td>10mgp</td>\n",
       "      <td>Thanks Paul</td>\n",
       "      <td>['dr_paul_bryson', 'xrailgroup', 'railindustry...</td>\n",
       "      <td>0.0</td>\n",
       "      <td>0.0</td>\n",
       "      <td>0.0</td>\n",
       "      <td>NaN</td>\n",
       "      <td>NaN</td>\n",
       "      <td>0.0</td>\n",
       "      <td>0.0</td>\n",
       "    </tr>\n",
       "    <tr>\n",
       "      <th>355</th>\n",
       "      <td>355</td>\n",
       "      <td>1.01713e+18</td>\n",
       "      <td>2018-07-11</td>\n",
       "      <td>19:30:04</td>\n",
       "      <td>UTC</td>\n",
       "      <td>10mgp</td>\n",
       "      <td>I've just entered #AutoTraderGoals for the cha...</td>\n",
       "      <td>NaN</td>\n",
       "      <td>0.0</td>\n",
       "      <td>0.0</td>\n",
       "      <td>0.0</td>\n",
       "      <td>['#autotradergoals']</td>\n",
       "      <td>NaN</td>\n",
       "      <td>0.0</td>\n",
       "      <td>1.0</td>\n",
       "    </tr>\n",
       "  </tbody>\n",
       "</table>\n",
       "</div>"
      ],
      "text/plain": [
       "    Unnamed: 0           id        date      time timezone username  \\\n",
       "351        351   1.0452e+18  2018-09-27  06:47:22      UTC    10mgp   \n",
       "352        352  1.03669e+18  2018-09-03  18:48:27      UTC    10mgp   \n",
       "353        353  1.02886e+18  2018-08-13  04:15:16      UTC    10mgp   \n",
       "354        354  1.01914e+18  2018-07-17  08:29:09      UTC    10mgp   \n",
       "355        355  1.01713e+18  2018-07-11  19:30:04      UTC    10mgp   \n",
       "\n",
       "                                                 tweet  \\\n",
       "351  I sure will be Lucy. Couldn’t miss it after se...   \n",
       "352  .@DarbaarbyAbdul Hi there. Have you guys close...   \n",
       "353  @British_Airways We are here for your safety a...   \n",
       "354                                        Thanks Paul   \n",
       "355  I've just entered #AutoTraderGoals for the cha...   \n",
       "\n",
       "                                              mentions  replies_count  \\\n",
       "351   ['lucylucyprior', 'xrailgroup', 'transcityrail']            1.0   \n",
       "352                                 ['darbaarbyabdul']            0.0   \n",
       "353         ['johnmsv', 'emirates', 'british_airways']            1.0   \n",
       "354  ['dr_paul_bryson', 'xrailgroup', 'railindustry...            0.0   \n",
       "355                                                NaN            0.0   \n",
       "\n",
       "     retweets_count  likes_count              hashtags quote_url  video  lang  \n",
       "351             1.0          3.0                   NaN       NaN    0.0   1.0  \n",
       "352             0.0          0.0                   NaN       NaN    0.0   1.0  \n",
       "353             0.0          0.0                   NaN       NaN    0.0   1.0  \n",
       "354             0.0          0.0                   NaN       NaN    0.0   0.0  \n",
       "355             0.0          0.0  ['#autotradergoals']       NaN    0.0   1.0  "
      ]
     },
     "execution_count": 28,
     "metadata": {},
     "output_type": "execute_result"
    }
   ],
   "source": [
    "af = af[af.username.isin(uslist)]\n",
    "af.head()"
   ]
  },
  {
   "cell_type": "code",
   "execution_count": 29,
   "metadata": {},
   "outputs": [
    {
     "name": "stdout",
     "output_type": "stream",
     "text": [
      "<class 'pandas.core.frame.DataFrame'>\n",
      "Int64Index: 545957 entries, 351 to 1793985\n",
      "Data columns (total 15 columns):\n",
      "Unnamed: 0        545957 non-null object\n",
      "id                545957 non-null object\n",
      "date              545957 non-null object\n",
      "time              545957 non-null object\n",
      "timezone          545957 non-null object\n",
      "username          545957 non-null object\n",
      "tweet             545957 non-null object\n",
      "mentions          239307 non-null object\n",
      "replies_count     545885 non-null float64\n",
      "retweets_count    545885 non-null float64\n",
      "likes_count       545885 non-null float64\n",
      "hashtags          123127 non-null object\n",
      "quote_url         35416 non-null object\n",
      "video             545885 non-null float64\n",
      "lang              545885 non-null float64\n",
      "dtypes: float64(5), object(10)\n",
      "memory usage: 66.6+ MB\n"
     ]
    }
   ],
   "source": [
    "af.info()"
   ]
  },
  {
   "cell_type": "markdown",
   "metadata": {},
   "source": [
    "Filter to only include english tweets"
   ]
  },
  {
   "cell_type": "code",
   "execution_count": 31,
   "metadata": {},
   "outputs": [],
   "source": [
    "af = af[af.lang == 1]"
   ]
  },
  {
   "cell_type": "code",
   "execution_count": 32,
   "metadata": {},
   "outputs": [
    {
     "name": "stdout",
     "output_type": "stream",
     "text": [
      "<class 'pandas.core.frame.DataFrame'>\n",
      "Int64Index: 376949 entries, 351 to 1793985\n",
      "Data columns (total 15 columns):\n",
      "Unnamed: 0        376949 non-null object\n",
      "id                376949 non-null object\n",
      "date              376949 non-null object\n",
      "time              376949 non-null object\n",
      "timezone          376949 non-null object\n",
      "username          376949 non-null object\n",
      "tweet             376949 non-null object\n",
      "mentions          164573 non-null object\n",
      "replies_count     376949 non-null float64\n",
      "retweets_count    376949 non-null float64\n",
      "likes_count       376949 non-null float64\n",
      "hashtags          96640 non-null object\n",
      "quote_url         25925 non-null object\n",
      "video             376949 non-null float64\n",
      "lang              376949 non-null float64\n",
      "dtypes: float64(5), object(10)\n",
      "memory usage: 46.0+ MB\n"
     ]
    }
   ],
   "source": [
    "af.info()"
   ]
  },
  {
   "cell_type": "markdown",
   "metadata": {},
   "source": [
    "Save final dataframe"
   ]
  },
  {
   "cell_type": "code",
   "execution_count": 33,
   "metadata": {},
   "outputs": [],
   "source": [
    "af.to_csv('finale_go_clean.csv', index=False, header=True)"
   ]
  }
 ],
 "metadata": {
  "kernelspec": {
   "display_name": "Python 3",
   "language": "python",
   "name": "python3"
  },
  "language_info": {
   "codemirror_mode": {
    "name": "ipython",
    "version": 3
   },
   "file_extension": ".py",
   "mimetype": "text/x-python",
   "name": "python",
   "nbconvert_exporter": "python",
   "pygments_lexer": "ipython3",
   "version": "3.7.2"
  }
 },
 "nbformat": 4,
 "nbformat_minor": 2
}
