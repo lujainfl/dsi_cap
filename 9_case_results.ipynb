{
 "cells": [
  {
   "cell_type": "code",
   "execution_count": 1,
   "metadata": {},
   "outputs": [],
   "source": [
    "import pandas as pd\n",
    "import seaborn as sns\n",
    "import matplotlib.pyplot as plt"
   ]
  },
  {
   "cell_type": "markdown",
   "metadata": {},
   "source": [
    "# Case Example!"
   ]
  },
  {
   "cell_type": "code",
   "execution_count": 5,
   "metadata": {},
   "outputs": [],
   "source": [
    "case = pd.read_csv('../Lujain_Capstone/lujain/predicted_set.csv')"
   ]
  },
  {
   "cell_type": "code",
   "execution_count": 6,
   "metadata": {},
   "outputs": [],
   "source": [
    "case.drop(['Unnamed: 0'], axis=1, inplace=True)"
   ]
  },
  {
   "cell_type": "code",
   "execution_count": 7,
   "metadata": {},
   "outputs": [],
   "source": [
    "import numpy as np\n",
    "import scipy as sp"
   ]
  },
  {
   "cell_type": "code",
   "execution_count": 211,
   "metadata": {},
   "outputs": [
    {
     "data": {
      "text/plain": [
       "0.38862"
      ]
     },
     "execution_count": 211,
     "metadata": {},
     "output_type": "execute_result"
    }
   ],
   "source": [
    "max(0.308344, 0.388620, 0.303036)"
   ]
  },
  {
   "cell_type": "code",
   "execution_count": 209,
   "metadata": {},
   "outputs": [
    {
     "data": {
      "text/html": [
       "<div>\n",
       "<style scoped>\n",
       "    .dataframe tbody tr th:only-of-type {\n",
       "        vertical-align: middle;\n",
       "    }\n",
       "\n",
       "    .dataframe tbody tr th {\n",
       "        vertical-align: top;\n",
       "    }\n",
       "\n",
       "    .dataframe thead th {\n",
       "        text-align: right;\n",
       "    }\n",
       "</style>\n",
       "<table border=\"1\" class=\"dataframe\">\n",
       "  <thead>\n",
       "    <tr style=\"text-align: right;\">\n",
       "      <th></th>\n",
       "      <th>Month</th>\n",
       "      <th>DayOfWeek</th>\n",
       "      <th>Hour</th>\n",
       "      <th>0</th>\n",
       "      <th>1</th>\n",
       "      <th>2</th>\n",
       "      <th>3</th>\n",
       "      <th>4</th>\n",
       "      <th>5</th>\n",
       "      <th>6</th>\n",
       "      <th>7</th>\n",
       "      <th>8</th>\n",
       "      <th>9</th>\n",
       "      <th>username</th>\n",
       "      <th>class_0</th>\n",
       "      <th>class_1</th>\n",
       "      <th>class_2</th>\n",
       "    </tr>\n",
       "  </thead>\n",
       "  <tbody>\n",
       "    <tr>\n",
       "      <th>0</th>\n",
       "      <td>1</td>\n",
       "      <td>0</td>\n",
       "      <td>0</td>\n",
       "      <td>0.046951</td>\n",
       "      <td>0.045885</td>\n",
       "      <td>0.045879</td>\n",
       "      <td>0.09988</td>\n",
       "      <td>0.358462</td>\n",
       "      <td>0.049083</td>\n",
       "      <td>0.045889</td>\n",
       "      <td>0.11382</td>\n",
       "      <td>0.125947</td>\n",
       "      <td>0.068204</td>\n",
       "      <td>10mgp</td>\n",
       "      <td>0.308344</td>\n",
       "      <td>0.388620</td>\n",
       "      <td>0.303036</td>\n",
       "    </tr>\n",
       "    <tr>\n",
       "      <th>1</th>\n",
       "      <td>1</td>\n",
       "      <td>0</td>\n",
       "      <td>1</td>\n",
       "      <td>0.046951</td>\n",
       "      <td>0.045885</td>\n",
       "      <td>0.045879</td>\n",
       "      <td>0.09988</td>\n",
       "      <td>0.358462</td>\n",
       "      <td>0.049083</td>\n",
       "      <td>0.045889</td>\n",
       "      <td>0.11382</td>\n",
       "      <td>0.125947</td>\n",
       "      <td>0.068204</td>\n",
       "      <td>10mgp</td>\n",
       "      <td>0.293093</td>\n",
       "      <td>0.386522</td>\n",
       "      <td>0.320385</td>\n",
       "    </tr>\n",
       "    <tr>\n",
       "      <th>2</th>\n",
       "      <td>1</td>\n",
       "      <td>0</td>\n",
       "      <td>2</td>\n",
       "      <td>0.046951</td>\n",
       "      <td>0.045885</td>\n",
       "      <td>0.045879</td>\n",
       "      <td>0.09988</td>\n",
       "      <td>0.358462</td>\n",
       "      <td>0.049083</td>\n",
       "      <td>0.045889</td>\n",
       "      <td>0.11382</td>\n",
       "      <td>0.125947</td>\n",
       "      <td>0.068204</td>\n",
       "      <td>10mgp</td>\n",
       "      <td>0.267547</td>\n",
       "      <td>0.384704</td>\n",
       "      <td>0.347749</td>\n",
       "    </tr>\n",
       "    <tr>\n",
       "      <th>3</th>\n",
       "      <td>1</td>\n",
       "      <td>0</td>\n",
       "      <td>3</td>\n",
       "      <td>0.046951</td>\n",
       "      <td>0.045885</td>\n",
       "      <td>0.045879</td>\n",
       "      <td>0.09988</td>\n",
       "      <td>0.358462</td>\n",
       "      <td>0.049083</td>\n",
       "      <td>0.045889</td>\n",
       "      <td>0.11382</td>\n",
       "      <td>0.125947</td>\n",
       "      <td>0.068204</td>\n",
       "      <td>10mgp</td>\n",
       "      <td>0.246411</td>\n",
       "      <td>0.380333</td>\n",
       "      <td>0.373255</td>\n",
       "    </tr>\n",
       "    <tr>\n",
       "      <th>4</th>\n",
       "      <td>1</td>\n",
       "      <td>0</td>\n",
       "      <td>4</td>\n",
       "      <td>0.046951</td>\n",
       "      <td>0.045885</td>\n",
       "      <td>0.045879</td>\n",
       "      <td>0.09988</td>\n",
       "      <td>0.358462</td>\n",
       "      <td>0.049083</td>\n",
       "      <td>0.045889</td>\n",
       "      <td>0.11382</td>\n",
       "      <td>0.125947</td>\n",
       "      <td>0.068204</td>\n",
       "      <td>10mgp</td>\n",
       "      <td>0.223804</td>\n",
       "      <td>0.377195</td>\n",
       "      <td>0.399001</td>\n",
       "    </tr>\n",
       "  </tbody>\n",
       "</table>\n",
       "</div>"
      ],
      "text/plain": [
       "   Month  DayOfWeek  Hour         0         1         2        3         4  \\\n",
       "0      1          0     0  0.046951  0.045885  0.045879  0.09988  0.358462   \n",
       "1      1          0     1  0.046951  0.045885  0.045879  0.09988  0.358462   \n",
       "2      1          0     2  0.046951  0.045885  0.045879  0.09988  0.358462   \n",
       "3      1          0     3  0.046951  0.045885  0.045879  0.09988  0.358462   \n",
       "4      1          0     4  0.046951  0.045885  0.045879  0.09988  0.358462   \n",
       "\n",
       "          5         6        7         8         9 username   class_0  \\\n",
       "0  0.049083  0.045889  0.11382  0.125947  0.068204    10mgp  0.308344   \n",
       "1  0.049083  0.045889  0.11382  0.125947  0.068204    10mgp  0.293093   \n",
       "2  0.049083  0.045889  0.11382  0.125947  0.068204    10mgp  0.267547   \n",
       "3  0.049083  0.045889  0.11382  0.125947  0.068204    10mgp  0.246411   \n",
       "4  0.049083  0.045889  0.11382  0.125947  0.068204    10mgp  0.223804   \n",
       "\n",
       "    class_1   class_2  \n",
       "0  0.388620  0.303036  \n",
       "1  0.386522  0.320385  \n",
       "2  0.384704  0.347749  \n",
       "3  0.380333  0.373255  \n",
       "4  0.377195  0.399001  "
      ]
     },
     "execution_count": 209,
     "metadata": {},
     "output_type": "execute_result"
    }
   ],
   "source": [
    "case.head()"
   ]
  },
  {
   "cell_type": "code",
   "execution_count": null,
   "metadata": {},
   "outputs": [],
   "source": []
  },
  {
   "cell_type": "code",
   "execution_count": 8,
   "metadata": {},
   "outputs": [
    {
     "data": {
      "application/vnd.jupyter.widget-view+json": {
       "model_id": "a3b0a06d2ffc487ebff099b4cd6203f8",
       "version_major": 2,
       "version_minor": 0
      },
      "text/plain": [
       "HBox(children=(IntProgress(value=0, max=864864), HTML(value='')))"
      ]
     },
     "metadata": {},
     "output_type": "display_data"
    },
    {
     "name": "stdout",
     "output_type": "stream",
     "text": [
      "\n"
     ]
    }
   ],
   "source": [
    "case['sent'] = case.progress_apply(lambda x: np.argmax((x['class_0'], x['class_1'], x['class_2']), axis=-1), axis=1)"
   ]
  },
  {
   "cell_type": "code",
   "execution_count": 9,
   "metadata": {},
   "outputs": [
    {
     "data": {
      "text/plain": [
       "2    466327\n",
       "1    398537\n",
       "Name: sent, dtype: int64"
      ]
     },
     "execution_count": 9,
     "metadata": {},
     "output_type": "execute_result"
    }
   ],
   "source": [
    "case['sent'].value_counts()"
   ]
  },
  {
   "cell_type": "code",
   "execution_count": 25,
   "metadata": {},
   "outputs": [
    {
     "name": "stderr",
     "output_type": "stream",
     "text": [
      "/Users/LujFel/anaconda3/lib/python3.7/site-packages/ipykernel_launcher.py:1: UserWarning: Boolean Series key will be reindexed to match DataFrame index.\n",
      "  \"\"\"Entry point for launching an IPython kernel.\n",
      "/Users/LujFel/anaconda3/lib/python3.7/site-packages/ipykernel_launcher.py:1: UserWarning: Boolean Series key will be reindexed to match DataFrame index.\n",
      "  \"\"\"Entry point for launching an IPython kernel.\n"
     ]
    }
   ],
   "source": [
    "avf_case = case[case.Month == 2][case.Hour == 12][case.DayOfWeek == 5]"
   ]
  },
  {
   "cell_type": "code",
   "execution_count": 155,
   "metadata": {},
   "outputs": [],
   "source": [
    "# avf_case.value_count()"
   ]
  },
  {
   "cell_type": "code",
   "execution_count": 143,
   "metadata": {},
   "outputs": [
    {
     "data": {
      "text/plain": [
       "array([[<matplotlib.axes._subplots.AxesSubplot object at 0x1a284c7438>]],\n",
       "      dtype=object)"
      ]
     },
     "execution_count": 143,
     "metadata": {},
     "output_type": "execute_result"
    },
    {
     "data": {
      "image/png": "[encoded data removed]",
      "text/plain": [
       "<Figure size 576x576 with 1 Axes>"
      ]
     },
     "metadata": {},
     "output_type": "display_data"
    }
   ],
   "source": [
    "case[['username', 'sent']].hist(color=(0.1, 0.5, 0.4), figsize=(8, 8), xlabelsize=10, ylabelsize=10)"
   ]
  },
  {
   "cell_type": "code",
   "execution_count": 118,
   "metadata": {},
   "outputs": [
    {
     "data": {
      "text/plain": [
       "2    466327\n",
       "1    398537\n",
       "Name: sent, dtype: int64"
      ]
     },
     "execution_count": 118,
     "metadata": {},
     "output_type": "execute_result"
    }
   ],
   "source": [
    "a = pd.Series(case['sent'].value_counts())\n",
    "a"
   ]
  },
  {
   "cell_type": "code",
   "execution_count": 124,
   "metadata": {},
   "outputs": [
    {
     "data": {
      "text/plain": [
       "<matplotlib.axes._subplots.AxesSubplot at 0x1a25bfaa90>"
      ]
     },
     "execution_count": 124,
     "metadata": {},
     "output_type": "execute_result"
    },
    {
     "data": {
      "image/png": "[encoded data removed]",
      "text/plain": [
       "<Figure size 720x720 with 1 Axes>"
      ]
     },
     "metadata": {},
     "output_type": "display_data"
    }
   ],
   "source": [
    "a.plot(kind='pie', figsize=(10, 10), label='Sentiemnt Split')"
   ]
  },
  {
   "cell_type": "code",
   "execution_count": 156,
   "metadata": {},
   "outputs": [
    {
     "data": {
      "image/png": "[encoded data removed]",
      "text/plain": [
       "<Figure size 360x360 with 1 Axes>"
      ]
     },
     "metadata": {},
     "output_type": "display_data"
    },
    {
     "data": {
      "image/png": "[encoded data removed]",
      "text/plain": [
       "<Figure size 360x360 with 1 Axes>"
      ]
     },
     "metadata": {},
     "output_type": "display_data"
    },
    {
     "data": {
      "image/png": "[encoded data removed]",
      "text/plain": [
       "<Figure size 360x360 with 1 Axes>"
      ]
     },
     "metadata": {},
     "output_type": "display_data"
    }
   ],
   "source": [
    "a = case[['sent']].groupby(case['DayOfWeek']).mean()\n",
    "b = case[['sent']].groupby(case['Hour']).mean()\n",
    "c = case[['sent']].groupby(case['Month']).mean()\n",
    "\n",
    "a.plot(figsize=(5, 5), fontsize=10, linewidth=8, \n",
    "       color='pink'), c.plot(figsize=(5, 5), fontsize=15, \n",
    "                                linewidth=8), b.plot(figsize=(5, 5), fontsize=10, \n",
    "                                                                            linewidth=8, color='lightgreen');"
   ]
  },
  {
   "cell_type": "code",
   "execution_count": 44,
   "metadata": {},
   "outputs": [
    {
     "name": "stdout",
     "output_type": "stream",
     "text": [
      "['_classic_test', 'bmh', 'classic', 'dark_background', 'fast', 'fivethirtyeight', 'ggplot', 'grayscale', 'seaborn-bright', 'seaborn-colorblind', 'seaborn-dark-palette', 'seaborn-dark', 'seaborn-darkgrid', 'seaborn-deep', 'seaborn-muted', 'seaborn-notebook', 'seaborn-paper', 'seaborn-pastel', 'seaborn-poster', 'seaborn-talk', 'seaborn-ticks', 'seaborn-white', 'seaborn-whitegrid', 'seaborn', 'Solarize_Light2', 'tableau-colorblind10']\n"
     ]
    }
   ],
   "source": [
    "print(plt.style.available)"
   ]
  },
  {
   "cell_type": "code",
   "execution_count": 94,
   "metadata": {},
   "outputs": [],
   "source": [
    "plt.style.use('seaborn-pastel')"
   ]
  },
  {
   "cell_type": "code",
   "execution_count": 53,
   "metadata": {},
   "outputs": [],
   "source": [
    "import matplotlib.pyplot as plt"
   ]
  },
  {
   "cell_type": "code",
   "execution_count": 153,
   "metadata": {},
   "outputs": [
    {
     "data": {
      "text/plain": [
       "<matplotlib.axes._subplots.AxesSubplot at 0x1a2693c908>"
      ]
     },
     "execution_count": 153,
     "metadata": {},
     "output_type": "execute_result"
    },
    {
     "data": {
      "image/png": "[encoded data removed]",
      "text/plain": [
       "<Figure size 576x576 with 1 Axes>"
      ]
     },
     "metadata": {},
     "output_type": "display_data"
    }
   ],
   "source": [
    "af.sentiment.hist(figsize=(8, 8), ylabelsize=12, xlabelsize=12, linewidth=8, \n",
    "       color='pink');"
   ]
  }
 ],
 "metadata": {
  "kernelspec": {
   "display_name": "Python 3",
   "language": "python",
   "name": "python3"
  },
  "language_info": {
   "codemirror_mode": {
    "name": "ipython",
    "version": 3
   },
   "file_extension": ".py",
   "mimetype": "text/x-python",
   "name": "python",
   "nbconvert_exporter": "python",
   "pygments_lexer": "ipython3",
   "version": "3.7.2"
  }
 },
 "nbformat": 4,
 "nbformat_minor": 2
}
