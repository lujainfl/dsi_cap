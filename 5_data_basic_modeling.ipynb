{
 "cells": [
  {
   "cell_type": "code",
   "execution_count": 14,
   "metadata": {},
   "outputs": [],
   "source": [
    "import pandas as pd\n",
    "import numpy as np\n",
    "import re\n",
    "import matplotlib as plt\n",
    "from wordcloud import WordCloud\n",
    "from tqdm.autonotebook import tqdm\n",
    "tqdm.pandas()\n",
    "\n",
    "# NLTK\n",
    "from nltk.tokenize import RegexpTokenizer\n",
    "from nltk.stem import PorterStemmer\n",
    "from nltk.corpus import stopwords\n",
    "\n",
    "# Visualization\n",
    "import matplotlib.pyplot as plt\n",
    "import matplotlib.patches as mpatches\n",
    "import matplotlib\n",
    "%matplotlib inline\n",
    "import seaborn as sns"
   ]
  },
  {
   "cell_type": "code",
   "execution_count": 94,
   "metadata": {},
   "outputs": [],
   "source": [
    "gf = pd.read_csv('finale_go_clean.csv')"
   ]
  },
  {
   "cell_type": "code",
   "execution_count": 98,
   "metadata": {},
   "outputs": [
    {
     "data": {
      "application/vnd.jupyter.widget-view+json": {
       "model_id": "223646f0b0a44b92b99a26f481b6d903",
       "version_major": 2,
       "version_minor": 0
      },
      "text/plain": [
       "HBox(children=(IntProgress(value=0, max=376949), HTML(value='')))"
      ]
     },
     "metadata": {},
     "output_type": "display_data"
    }
   ],
   "source": [
    "ff['sentiment'] = gf['tweet'].progress_apply(lambda x: TextBlob(x).sentiment.polarity)"
   ]
  },
  {
   "cell_type": "code",
   "execution_count": 99,
   "metadata": {},
   "outputs": [
    {
     "data": {
      "text/html": [
       "<div>\n",
       "<style scoped>\n",
       "    .dataframe tbody tr th:only-of-type {\n",
       "        vertical-align: middle;\n",
       "    }\n",
       "\n",
       "    .dataframe tbody tr th {\n",
       "        vertical-align: top;\n",
       "    }\n",
       "\n",
       "    .dataframe thead th {\n",
       "        text-align: right;\n",
       "    }\n",
       "</style>\n",
       "<table border=\"1\" class=\"dataframe\">\n",
       "  <thead>\n",
       "    <tr style=\"text-align: right;\">\n",
       "      <th></th>\n",
       "      <th>id</th>\n",
       "      <th>date</th>\n",
       "      <th>time</th>\n",
       "      <th>username</th>\n",
       "      <th>tweet</th>\n",
       "      <th>mentions</th>\n",
       "      <th>hashtags</th>\n",
       "      <th>topics</th>\n",
       "      <th>0</th>\n",
       "      <th>1</th>\n",
       "      <th>2</th>\n",
       "      <th>3</th>\n",
       "      <th>4</th>\n",
       "      <th>5</th>\n",
       "      <th>6</th>\n",
       "      <th>7</th>\n",
       "      <th>8</th>\n",
       "      <th>9</th>\n",
       "      <th>sentiment</th>\n",
       "    </tr>\n",
       "  </thead>\n",
       "  <tbody>\n",
       "    <tr>\n",
       "      <th>0</th>\n",
       "      <td>1.045203e+18</td>\n",
       "      <td>2018-09-27</td>\n",
       "      <td>06:47:22</td>\n",
       "      <td>10mgp</td>\n",
       "      <td>[sure, luci, couldnt, miss, see, speak, line, ...</td>\n",
       "      <td>['lucylucyprior', 'xrailgroup', 'transcityrail']</td>\n",
       "      <td>NaN</td>\n",
       "      <td>{0: 0.0100580305, 1: 0.0100580305, 2: 0.228744...</td>\n",
       "      <td>0.010058</td>\n",
       "      <td>0.010058</td>\n",
       "      <td>0.228744</td>\n",
       "      <td>0.487173</td>\n",
       "      <td>0.113148</td>\n",
       "      <td>0.010058</td>\n",
       "      <td>0.010058</td>\n",
       "      <td>0.010058</td>\n",
       "      <td>0.010060</td>\n",
       "      <td>0.110585</td>\n",
       "      <td>0.500000</td>\n",
       "    </tr>\n",
       "    <tr>\n",
       "      <th>1</th>\n",
       "      <td>1.036687e+18</td>\n",
       "      <td>2018-09-03</td>\n",
       "      <td>18:48:27</td>\n",
       "      <td>10mgp</td>\n",
       "      <td>[darbaarbyabdul, guy, close, tri, phone, guy, ...</td>\n",
       "      <td>['darbaarbyabdul']</td>\n",
       "      <td>NaN</td>\n",
       "      <td>{1: 0.12951413, 2: 0.30384994, 8: 0.50829476}</td>\n",
       "      <td>0.000000</td>\n",
       "      <td>0.129514</td>\n",
       "      <td>0.303850</td>\n",
       "      <td>0.000000</td>\n",
       "      <td>0.000000</td>\n",
       "      <td>0.000000</td>\n",
       "      <td>0.000000</td>\n",
       "      <td>0.000000</td>\n",
       "      <td>0.508295</td>\n",
       "      <td>0.000000</td>\n",
       "      <td>-0.085185</td>\n",
       "    </tr>\n",
       "    <tr>\n",
       "      <th>2</th>\n",
       "      <td>1.028857e+18</td>\n",
       "      <td>2018-08-13</td>\n",
       "      <td>04:15:16</td>\n",
       "      <td>10mgp</td>\n",
       "      <td>[british, airway, safeti, lucki, serv, tea]</td>\n",
       "      <td>['johnmsv', 'emirates', 'british_airways']</td>\n",
       "      <td>NaN</td>\n",
       "      <td>{0: 0.15713021, 1: 0.15714662, 2: 0.014292412,...</td>\n",
       "      <td>0.157130</td>\n",
       "      <td>0.157147</td>\n",
       "      <td>0.014292</td>\n",
       "      <td>0.014292</td>\n",
       "      <td>0.157099</td>\n",
       "      <td>0.157097</td>\n",
       "      <td>0.014292</td>\n",
       "      <td>0.300065</td>\n",
       "      <td>0.014292</td>\n",
       "      <td>0.014292</td>\n",
       "      <td>0.333333</td>\n",
       "    </tr>\n",
       "    <tr>\n",
       "      <th>3</th>\n",
       "      <td>1.017129e+18</td>\n",
       "      <td>2018-07-11</td>\n",
       "      <td>19:30:04</td>\n",
       "      <td>10mgp</td>\n",
       "      <td>[ive, enter, autotradergo, chanc, win, free, car]</td>\n",
       "      <td>NaN</td>\n",
       "      <td>['#autotradergoals']</td>\n",
       "      <td>{0: 0.15712872, 1: 0.15715624, 2: 0.014287142,...</td>\n",
       "      <td>0.157129</td>\n",
       "      <td>0.157156</td>\n",
       "      <td>0.014287</td>\n",
       "      <td>0.014288</td>\n",
       "      <td>0.299989</td>\n",
       "      <td>0.014289</td>\n",
       "      <td>0.157153</td>\n",
       "      <td>0.157131</td>\n",
       "      <td>0.014290</td>\n",
       "      <td>0.014287</td>\n",
       "      <td>0.600000</td>\n",
       "    </tr>\n",
       "    <tr>\n",
       "      <th>4</th>\n",
       "      <td>1.013736e+18</td>\n",
       "      <td>2018-07-02</td>\n",
       "      <td>10:45:58</td>\n",
       "      <td>10mgp</td>\n",
       "      <td>[becci, sent, ongo, issu, thank]</td>\n",
       "      <td>['landrover_uk']</td>\n",
       "      <td>NaN</td>\n",
       "      <td>{0: 0.020004185, 1: 0.21999583, 2: 0.020004185...</td>\n",
       "      <td>0.020004</td>\n",
       "      <td>0.219996</td>\n",
       "      <td>0.020004</td>\n",
       "      <td>0.419946</td>\n",
       "      <td>0.020008</td>\n",
       "      <td>0.020004</td>\n",
       "      <td>0.020004</td>\n",
       "      <td>0.020004</td>\n",
       "      <td>0.020007</td>\n",
       "      <td>0.220022</td>\n",
       "      <td>0.000000</td>\n",
       "    </tr>\n",
       "  </tbody>\n",
       "</table>\n",
       "</div>"
      ],
      "text/plain": [
       "             id        date      time username  \\\n",
       "0  1.045203e+18  2018-09-27  06:47:22    10mgp   \n",
       "1  1.036687e+18  2018-09-03  18:48:27    10mgp   \n",
       "2  1.028857e+18  2018-08-13  04:15:16    10mgp   \n",
       "3  1.017129e+18  2018-07-11  19:30:04    10mgp   \n",
       "4  1.013736e+18  2018-07-02  10:45:58    10mgp   \n",
       "\n",
       "                                               tweet  \\\n",
       "0  [sure, luci, couldnt, miss, see, speak, line, ...   \n",
       "1  [darbaarbyabdul, guy, close, tri, phone, guy, ...   \n",
       "2        [british, airway, safeti, lucki, serv, tea]   \n",
       "3  [ive, enter, autotradergo, chanc, win, free, car]   \n",
       "4                   [becci, sent, ongo, issu, thank]   \n",
       "\n",
       "                                           mentions              hashtags  \\\n",
       "0  ['lucylucyprior', 'xrailgroup', 'transcityrail']                   NaN   \n",
       "1                                ['darbaarbyabdul']                   NaN   \n",
       "2        ['johnmsv', 'emirates', 'british_airways']                   NaN   \n",
       "3                                               NaN  ['#autotradergoals']   \n",
       "4                                  ['landrover_uk']                   NaN   \n",
       "\n",
       "                                              topics         0         1  \\\n",
       "0  {0: 0.0100580305, 1: 0.0100580305, 2: 0.228744...  0.010058  0.010058   \n",
       "1      {1: 0.12951413, 2: 0.30384994, 8: 0.50829476}  0.000000  0.129514   \n",
       "2  {0: 0.15713021, 1: 0.15714662, 2: 0.014292412,...  0.157130  0.157147   \n",
       "3  {0: 0.15712872, 1: 0.15715624, 2: 0.014287142,...  0.157129  0.157156   \n",
       "4  {0: 0.020004185, 1: 0.21999583, 2: 0.020004185...  0.020004  0.219996   \n",
       "\n",
       "          2         3         4         5         6         7         8  \\\n",
       "0  0.228744  0.487173  0.113148  0.010058  0.010058  0.010058  0.010060   \n",
       "1  0.303850  0.000000  0.000000  0.000000  0.000000  0.000000  0.508295   \n",
       "2  0.014292  0.014292  0.157099  0.157097  0.014292  0.300065  0.014292   \n",
       "3  0.014287  0.014288  0.299989  0.014289  0.157153  0.157131  0.014290   \n",
       "4  0.020004  0.419946  0.020008  0.020004  0.020004  0.020004  0.020007   \n",
       "\n",
       "          9  sentiment  \n",
       "0  0.110585   0.500000  \n",
       "1  0.000000  -0.085185  \n",
       "2  0.014292   0.333333  \n",
       "3  0.014287   0.600000  \n",
       "4  0.220022   0.000000  "
      ]
     },
     "execution_count": 99,
     "metadata": {},
     "output_type": "execute_result"
    }
   ],
   "source": [
    "ff.head()"
   ]
  },
  {
   "cell_type": "code",
   "execution_count": 124,
   "metadata": {},
   "outputs": [],
   "source": [
    "ff['Timestamp'] = pd.to_datetime(ff['date'] + ' ' + ff['time'])"
   ]
  },
  {
   "cell_type": "code",
   "execution_count": 135,
   "metadata": {},
   "outputs": [
    {
     "data": {
      "application/vnd.jupyter.widget-view+json": {
       "model_id": "a5afc6740eec41309df66add8c81e2b1",
       "version_major": 2,
       "version_minor": 0
      },
      "text/plain": [
       "HBox(children=(IntProgress(value=0, max=376949), HTML(value='')))"
      ]
     },
     "metadata": {},
     "output_type": "display_data"
    }
   ],
   "source": [
    "ff['DayOfWeek'] = ff['Timestamp'].progress_apply(lambda x: x.dayofweek)"
   ]
  },
  {
   "cell_type": "code",
   "execution_count": 136,
   "metadata": {},
   "outputs": [
    {
     "data": {
      "application/vnd.jupyter.widget-view+json": {
       "model_id": "8a7c769018e548cdafb60c9e8d129dae",
       "version_major": 2,
       "version_minor": 0
      },
      "text/plain": [
       "HBox(children=(IntProgress(value=0, max=376949), HTML(value='')))"
      ]
     },
     "metadata": {},
     "output_type": "display_data"
    }
   ],
   "source": [
    "ff['Month'] = ff['Timestamp'].progress_apply(lambda x: x.month)"
   ]
  },
  {
   "cell_type": "code",
   "execution_count": 138,
   "metadata": {},
   "outputs": [
    {
     "data": {
      "application/vnd.jupyter.widget-view+json": {
       "model_id": "00cb31664d87415a869d84e32b1ec542",
       "version_major": 2,
       "version_minor": 0
      },
      "text/plain": [
       "HBox(children=(IntProgress(value=0, max=376949), HTML(value='')))"
      ]
     },
     "metadata": {},
     "output_type": "display_data"
    }
   ],
   "source": [
    "ff['Hour'] = ff['Timestamp'].progress_apply(lambda x: x.hour)"
   ]
  },
  {
   "cell_type": "code",
   "execution_count": 139,
   "metadata": {},
   "outputs": [
    {
     "data": {
      "text/html": [
       "<div>\n",
       "<style scoped>\n",
       "    .dataframe tbody tr th:only-of-type {\n",
       "        vertical-align: middle;\n",
       "    }\n",
       "\n",
       "    .dataframe tbody tr th {\n",
       "        vertical-align: top;\n",
       "    }\n",
       "\n",
       "    .dataframe thead th {\n",
       "        text-align: right;\n",
       "    }\n",
       "</style>\n",
       "<table border=\"1\" class=\"dataframe\">\n",
       "  <thead>\n",
       "    <tr style=\"text-align: right;\">\n",
       "      <th></th>\n",
       "      <th>id</th>\n",
       "      <th>date</th>\n",
       "      <th>time</th>\n",
       "      <th>username</th>\n",
       "      <th>tweet</th>\n",
       "      <th>mentions</th>\n",
       "      <th>hashtags</th>\n",
       "      <th>topics</th>\n",
       "      <th>0</th>\n",
       "      <th>1</th>\n",
       "      <th>...</th>\n",
       "      <th>5</th>\n",
       "      <th>6</th>\n",
       "      <th>7</th>\n",
       "      <th>8</th>\n",
       "      <th>9</th>\n",
       "      <th>sentiment</th>\n",
       "      <th>Timestamp</th>\n",
       "      <th>DayOfWeek</th>\n",
       "      <th>Month</th>\n",
       "      <th>Hour</th>\n",
       "    </tr>\n",
       "  </thead>\n",
       "  <tbody>\n",
       "    <tr>\n",
       "      <th>0</th>\n",
       "      <td>1.045203e+18</td>\n",
       "      <td>2018-09-27</td>\n",
       "      <td>06:47:22</td>\n",
       "      <td>10mgp</td>\n",
       "      <td>[sure, luci, couldnt, miss, see, speak, line, ...</td>\n",
       "      <td>['lucylucyprior', 'xrailgroup', 'transcityrail']</td>\n",
       "      <td>NaN</td>\n",
       "      <td>{0: 0.0100580305, 1: 0.0100580305, 2: 0.228744...</td>\n",
       "      <td>0.010058</td>\n",
       "      <td>0.010058</td>\n",
       "      <td>...</td>\n",
       "      <td>0.010058</td>\n",
       "      <td>0.010058</td>\n",
       "      <td>0.010058</td>\n",
       "      <td>0.010060</td>\n",
       "      <td>0.110585</td>\n",
       "      <td>0.500000</td>\n",
       "      <td>2018-09-27 06:47:22</td>\n",
       "      <td>3</td>\n",
       "      <td>9</td>\n",
       "      <td>6</td>\n",
       "    </tr>\n",
       "    <tr>\n",
       "      <th>1</th>\n",
       "      <td>1.036687e+18</td>\n",
       "      <td>2018-09-03</td>\n",
       "      <td>18:48:27</td>\n",
       "      <td>10mgp</td>\n",
       "      <td>[darbaarbyabdul, guy, close, tri, phone, guy, ...</td>\n",
       "      <td>['darbaarbyabdul']</td>\n",
       "      <td>NaN</td>\n",
       "      <td>{1: 0.12951413, 2: 0.30384994, 8: 0.50829476}</td>\n",
       "      <td>0.000000</td>\n",
       "      <td>0.129514</td>\n",
       "      <td>...</td>\n",
       "      <td>0.000000</td>\n",
       "      <td>0.000000</td>\n",
       "      <td>0.000000</td>\n",
       "      <td>0.508295</td>\n",
       "      <td>0.000000</td>\n",
       "      <td>-0.085185</td>\n",
       "      <td>2018-09-03 18:48:27</td>\n",
       "      <td>0</td>\n",
       "      <td>9</td>\n",
       "      <td>18</td>\n",
       "    </tr>\n",
       "    <tr>\n",
       "      <th>2</th>\n",
       "      <td>1.028857e+18</td>\n",
       "      <td>2018-08-13</td>\n",
       "      <td>04:15:16</td>\n",
       "      <td>10mgp</td>\n",
       "      <td>[british, airway, safeti, lucki, serv, tea]</td>\n",
       "      <td>['johnmsv', 'emirates', 'british_airways']</td>\n",
       "      <td>NaN</td>\n",
       "      <td>{0: 0.15713021, 1: 0.15714662, 2: 0.014292412,...</td>\n",
       "      <td>0.157130</td>\n",
       "      <td>0.157147</td>\n",
       "      <td>...</td>\n",
       "      <td>0.157097</td>\n",
       "      <td>0.014292</td>\n",
       "      <td>0.300065</td>\n",
       "      <td>0.014292</td>\n",
       "      <td>0.014292</td>\n",
       "      <td>0.333333</td>\n",
       "      <td>2018-08-13 04:15:16</td>\n",
       "      <td>0</td>\n",
       "      <td>8</td>\n",
       "      <td>4</td>\n",
       "    </tr>\n",
       "    <tr>\n",
       "      <th>3</th>\n",
       "      <td>1.017129e+18</td>\n",
       "      <td>2018-07-11</td>\n",
       "      <td>19:30:04</td>\n",
       "      <td>10mgp</td>\n",
       "      <td>[ive, enter, autotradergo, chanc, win, free, car]</td>\n",
       "      <td>NaN</td>\n",
       "      <td>['#autotradergoals']</td>\n",
       "      <td>{0: 0.15712872, 1: 0.15715624, 2: 0.014287142,...</td>\n",
       "      <td>0.157129</td>\n",
       "      <td>0.157156</td>\n",
       "      <td>...</td>\n",
       "      <td>0.014289</td>\n",
       "      <td>0.157153</td>\n",
       "      <td>0.157131</td>\n",
       "      <td>0.014290</td>\n",
       "      <td>0.014287</td>\n",
       "      <td>0.600000</td>\n",
       "      <td>2018-07-11 19:30:04</td>\n",
       "      <td>2</td>\n",
       "      <td>7</td>\n",
       "      <td>19</td>\n",
       "    </tr>\n",
       "    <tr>\n",
       "      <th>4</th>\n",
       "      <td>1.013736e+18</td>\n",
       "      <td>2018-07-02</td>\n",
       "      <td>10:45:58</td>\n",
       "      <td>10mgp</td>\n",
       "      <td>[becci, sent, ongo, issu, thank]</td>\n",
       "      <td>['landrover_uk']</td>\n",
       "      <td>NaN</td>\n",
       "      <td>{0: 0.020004185, 1: 0.21999583, 2: 0.020004185...</td>\n",
       "      <td>0.020004</td>\n",
       "      <td>0.219996</td>\n",
       "      <td>...</td>\n",
       "      <td>0.020004</td>\n",
       "      <td>0.020004</td>\n",
       "      <td>0.020004</td>\n",
       "      <td>0.020007</td>\n",
       "      <td>0.220022</td>\n",
       "      <td>0.000000</td>\n",
       "      <td>2018-07-02 10:45:58</td>\n",
       "      <td>0</td>\n",
       "      <td>7</td>\n",
       "      <td>10</td>\n",
       "    </tr>\n",
       "  </tbody>\n",
       "</table>\n",
       "<p>5 rows × 23 columns</p>\n",
       "</div>"
      ],
      "text/plain": [
       "             id        date      time username  \\\n",
       "0  1.045203e+18  2018-09-27  06:47:22    10mgp   \n",
       "1  1.036687e+18  2018-09-03  18:48:27    10mgp   \n",
       "2  1.028857e+18  2018-08-13  04:15:16    10mgp   \n",
       "3  1.017129e+18  2018-07-11  19:30:04    10mgp   \n",
       "4  1.013736e+18  2018-07-02  10:45:58    10mgp   \n",
       "\n",
       "                                               tweet  \\\n",
       "0  [sure, luci, couldnt, miss, see, speak, line, ...   \n",
       "1  [darbaarbyabdul, guy, close, tri, phone, guy, ...   \n",
       "2        [british, airway, safeti, lucki, serv, tea]   \n",
       "3  [ive, enter, autotradergo, chanc, win, free, car]   \n",
       "4                   [becci, sent, ongo, issu, thank]   \n",
       "\n",
       "                                           mentions              hashtags  \\\n",
       "0  ['lucylucyprior', 'xrailgroup', 'transcityrail']                   NaN   \n",
       "1                                ['darbaarbyabdul']                   NaN   \n",
       "2        ['johnmsv', 'emirates', 'british_airways']                   NaN   \n",
       "3                                               NaN  ['#autotradergoals']   \n",
       "4                                  ['landrover_uk']                   NaN   \n",
       "\n",
       "                                              topics         0         1 ...   \\\n",
       "0  {0: 0.0100580305, 1: 0.0100580305, 2: 0.228744...  0.010058  0.010058 ...    \n",
       "1      {1: 0.12951413, 2: 0.30384994, 8: 0.50829476}  0.000000  0.129514 ...    \n",
       "2  {0: 0.15713021, 1: 0.15714662, 2: 0.014292412,...  0.157130  0.157147 ...    \n",
       "3  {0: 0.15712872, 1: 0.15715624, 2: 0.014287142,...  0.157129  0.157156 ...    \n",
       "4  {0: 0.020004185, 1: 0.21999583, 2: 0.020004185...  0.020004  0.219996 ...    \n",
       "\n",
       "          5         6         7         8         9  sentiment  \\\n",
       "0  0.010058  0.010058  0.010058  0.010060  0.110585   0.500000   \n",
       "1  0.000000  0.000000  0.000000  0.508295  0.000000  -0.085185   \n",
       "2  0.157097  0.014292  0.300065  0.014292  0.014292   0.333333   \n",
       "3  0.014289  0.157153  0.157131  0.014290  0.014287   0.600000   \n",
       "4  0.020004  0.020004  0.020004  0.020007  0.220022   0.000000   \n",
       "\n",
       "            Timestamp  DayOfWeek  Month Hour  \n",
       "0 2018-09-27 06:47:22          3      9    6  \n",
       "1 2018-09-03 18:48:27          0      9   18  \n",
       "2 2018-08-13 04:15:16          0      8    4  \n",
       "3 2018-07-11 19:30:04          2      7   19  \n",
       "4 2018-07-02 10:45:58          0      7   10  \n",
       "\n",
       "[5 rows x 23 columns]"
      ]
     },
     "execution_count": 139,
     "metadata": {},
     "output_type": "execute_result"
    }
   ],
   "source": [
    "ff.head()"
   ]
  },
  {
   "cell_type": "code",
   "execution_count": 142,
   "metadata": {},
   "outputs": [],
   "source": [
    "mf = ff[['id', 'username', '0', '1', '2', '3', '4', '5', '6', '7', '8', '9', 'DayOfWeek', 'Month', 'Hour', 'sentiment']]"
   ]
  },
  {
   "cell_type": "markdown",
   "metadata": {},
   "source": [
    "# Preliminary Prediction Models"
   ]
  },
  {
   "cell_type": "code",
   "execution_count": 147,
   "metadata": {},
   "outputs": [],
   "source": [
    "X = mf[['username', '0', '1', '2', '3', '4', '5', '6', '7', '8', '9', 'DayOfWeek', 'Month', 'Hour']]\n",
    "X = pd.get_dummies(X)"
   ]
  },
  {
   "cell_type": "code",
   "execution_count": 148,
   "metadata": {},
   "outputs": [],
   "source": [
    "X = pd.get_dummies(X)"
   ]
  },
  {
   "cell_type": "code",
   "execution_count": 149,
   "metadata": {},
   "outputs": [],
   "source": [
    "y = mf[['sentiment']]"
   ]
  },
  {
   "cell_type": "code",
   "execution_count": 150,
   "metadata": {},
   "outputs": [],
   "source": [
    "from sklearn.preprocessing import PolynomialFeatures, StandardScaler\n",
    "from sklearn.linear_model import LinearRegression, Ridge, Lasso, RidgeCV, LassoCV\n",
    "from sklearn.model_selection import cross_val_score, cross_val_predict,train_test_split\n",
    "from sklearn.metrics import r2_score, mean_squared_error\n",
    "import matplotlib\n",
    "import matplotlib.pyplot as plt"
   ]
  },
  {
   "cell_type": "code",
   "execution_count": 164,
   "metadata": {},
   "outputs": [
    {
     "name": "stderr",
     "output_type": "stream",
     "text": [
      "/Users/LujFel/anaconda3/lib/python3.7/site-packages/sklearn/preprocessing/data.py:625: DataConversionWarning: Data with input dtype uint8, int64, float64 were all converted to float64 by StandardScaler.\n",
      "  return self.partial_fit(X, y)\n",
      "/Users/LujFel/anaconda3/lib/python3.7/site-packages/sklearn/base.py:462: DataConversionWarning: Data with input dtype uint8, int64, float64 were all converted to float64 by StandardScaler.\n",
      "  return self.fit(X, **fit_params).transform(X)\n",
      "/Users/LujFel/anaconda3/lib/python3.7/site-packages/sklearn/preprocessing/data.py:625: DataConversionWarning: Data with input dtype uint8, int64, float64 were all converted to float64 by StandardScaler.\n",
      "  return self.partial_fit(X, y)\n",
      "/Users/LujFel/anaconda3/lib/python3.7/site-packages/sklearn/base.py:462: DataConversionWarning: Data with input dtype uint8, int64, float64 were all converted to float64 by StandardScaler.\n",
      "  return self.fit(X, **fit_params).transform(X)\n"
     ]
    }
   ],
   "source": [
    "X_train, X_test, y_train, y_test = train_test_split(X,y,test_size=0.2)\n",
    "\n",
    "scaler = StandardScaler()\n",
    "X_train = pd.DataFrame(scaler.fit_transform(X_train), columns=X.columns)\n",
    "X_test = pd.DataFrame(scaler.transform(X_test), columns=X.columns)"
   ]
  },
  {
   "cell_type": "code",
   "execution_count": 165,
   "metadata": {},
   "outputs": [
    {
     "name": "stdout",
     "output_type": "stream",
     "text": [
      "scores:  [0.08797325 0.09053193 0.08899739 0.09104492 0.09098423]\n",
      "socres mean:  0.08990634513799811\n"
     ]
    }
   ],
   "source": [
    "model_lr = LinearRegression()\n",
    "scores = cross_val_score(model_lr,X_train,y_train,cv=5)\n",
    "print('scores: ',scores)\n",
    "print('socres mean: ',scores.mean())"
   ]
  },
  {
   "cell_type": "code",
   "execution_count": 166,
   "metadata": {},
   "outputs": [
    {
     "name": "stdout",
     "output_type": "stream",
     "text": [
      "training           r2: 0.9999068342600758\n",
      "test               r2: -0.9178346643328898\n"
     ]
    }
   ],
   "source": [
    "from sklearn.tree import DecisionTreeRegressor\n",
    "\n",
    "dt = DecisionTreeRegressor()\n",
    "dt.fit(X_train, y_train)\n",
    "\n",
    "print('training           r2:',dt.score(X_train,y_train))\n",
    "print('test               r2:',dt.score(X_test,y_test)) "
   ]
  },
  {
   "cell_type": "code",
   "execution_count": 155,
   "metadata": {},
   "outputs": [],
   "source": [
    "from sklearn.ensemble import GradientBoostingRegressor,RandomForestRegressor,BaggingRegressor,AdaBoostRegressor"
   ]
  },
  {
   "cell_type": "code",
   "execution_count": 156,
   "metadata": {},
   "outputs": [
    {
     "name": "stderr",
     "output_type": "stream",
     "text": [
      "/Users/LujFel/anaconda3/lib/python3.7/site-packages/sklearn/ensemble/forest.py:246: FutureWarning: The default value of n_estimators will change from 10 in version 0.20 to 100 in 0.22.\n",
      "  \"10 in version 0.20 to 100 in 0.22.\", FutureWarning)\n",
      "/Users/LujFel/anaconda3/lib/python3.7/site-packages/ipykernel_launcher.py:2: DataConversionWarning: A column-vector y was passed when a 1d array was expected. Please change the shape of y to (n_samples,), for example using ravel().\n",
      "  \n"
     ]
    },
    {
     "name": "stdout",
     "output_type": "stream",
     "text": [
      "training           r2: 0.8328479448512468\n",
      "test               r2: 0.07056220742030461\n"
     ]
    }
   ],
   "source": [
    "a= RandomForestRegressor(max_features=12)\n",
    "a.fit(X_train,y_train)\n",
    "\n",
    "print('training           r2:',a.score(X_train,y_train))\n",
    "print('test               r2:',a.score(X_test,y_test))"
   ]
  },
  {
   "cell_type": "code",
   "execution_count": 138,
   "metadata": {},
   "outputs": [
    {
     "data": {
      "text/plain": [
       "1.1820389609325272"
      ]
     },
     "execution_count": 138,
     "metadata": {},
     "output_type": "execute_result"
    }
   ],
   "source": [
    "sc.mean(ff.sent_class)"
   ]
  },
  {
   "cell_type": "markdown",
   "metadata": {},
   "source": [
    "CLASSIFICATION"
   ]
  },
  {
   "cell_type": "code",
   "execution_count": 167,
   "metadata": {},
   "outputs": [],
   "source": [
    "import matplotlib.pyplot as plt\n",
    "from sklearn.linear_model import LogisticRegression"
   ]
  },
  {
   "cell_type": "code",
   "execution_count": 168,
   "metadata": {},
   "outputs": [],
   "source": [
    "def osa(x):\n",
    "    if x > 0.2:\n",
    "        o = 2\n",
    "    elif 0.2 > x > -0.2:\n",
    "        o = 1\n",
    "    else:\n",
    "        o = 0\n",
    "    return o "
   ]
  },
  {
   "cell_type": "code",
   "execution_count": 169,
   "metadata": {},
   "outputs": [
    {
     "data": {
      "application/vnd.jupyter.widget-view+json": {
       "model_id": "cc9cc8512b5f4c06a38dfa74e5ba4a34",
       "version_major": 2,
       "version_minor": 0
      },
      "text/plain": [
       "HBox(children=(IntProgress(value=0, max=376949), HTML(value='')))"
      ]
     },
     "metadata": {},
     "output_type": "display_data"
    }
   ],
   "source": [
    "ff['sent_class'] = ff['sentiment'].progress_apply(lambda x: osa(x))"
   ]
  },
  {
   "cell_type": "code",
   "execution_count": 170,
   "metadata": {},
   "outputs": [],
   "source": [
    "yc = ff[['sent_class']]"
   ]
  },
  {
   "cell_type": "code",
   "execution_count": 171,
   "metadata": {},
   "outputs": [
    {
     "name": "stderr",
     "output_type": "stream",
     "text": [
      "/Users/LujFel/anaconda3/lib/python3.7/site-packages/sklearn/preprocessing/data.py:625: DataConversionWarning: Data with input dtype uint8, int64, float64 were all converted to float64 by StandardScaler.\n",
      "  return self.partial_fit(X, y)\n",
      "/Users/LujFel/anaconda3/lib/python3.7/site-packages/sklearn/base.py:462: DataConversionWarning: Data with input dtype uint8, int64, float64 were all converted to float64 by StandardScaler.\n",
      "  return self.fit(X, **fit_params).transform(X)\n",
      "/Users/LujFel/anaconda3/lib/python3.7/site-packages/sklearn/preprocessing/data.py:625: DataConversionWarning: Data with input dtype uint8, int64, float64 were all converted to float64 by StandardScaler.\n",
      "  return self.partial_fit(X, y)\n",
      "/Users/LujFel/anaconda3/lib/python3.7/site-packages/sklearn/base.py:462: DataConversionWarning: Data with input dtype uint8, int64, float64 were all converted to float64 by StandardScaler.\n",
      "  return self.fit(X, **fit_params).transform(X)\n"
     ]
    }
   ],
   "source": [
    "X_train_c, X_test_c, y_train_c, y_test_c = train_test_split(X,yc,test_size=0.2)\n",
    "\n",
    "scaler = StandardScaler()\n",
    "X_train_c = pd.DataFrame(scaler.fit_transform(X_train_c), columns=X.columns)\n",
    "X_test_c = pd.DataFrame(scaler.transform(X_test_c), columns=X.columns)"
   ]
  },
  {
   "cell_type": "code",
   "execution_count": 172,
   "metadata": {},
   "outputs": [
    {
     "name": "stderr",
     "output_type": "stream",
     "text": [
      "/Users/LujFel/anaconda3/lib/python3.7/site-packages/sklearn/utils/validation.py:761: DataConversionWarning: A column-vector y was passed when a 1d array was expected. Please change the shape of y to (n_samples, ), for example using ravel().\n",
      "  y = column_or_1d(y, warn=True)\n",
      "/Users/LujFel/anaconda3/lib/python3.7/site-packages/sklearn/linear_model/logistic.py:758: ConvergenceWarning: lbfgs failed to converge. Increase the number of iterations.\n",
      "  \"of iterations.\", ConvergenceWarning)\n"
     ]
    },
    {
     "data": {
      "text/plain": [
       "(0.6610945121850119, 0.6609231993633108)"
      ]
     },
     "execution_count": 172,
     "metadata": {},
     "output_type": "execute_result"
    }
   ],
   "source": [
    "import matplotlib.pyplot as plt\n",
    "from sklearn.linear_model import LogisticRegression\n",
    "\n",
    "logreg = LogisticRegression(solver='lbfgs', multi_class='multinomial')\n",
    "logreg.fit(X_train_c, y_train_c)\n",
    "logreg.score(X_train_c, y_train_c), logreg.score(X_test_c, y_test_c)"
   ]
  },
  {
   "cell_type": "code",
   "execution_count": 125,
   "metadata": {},
   "outputs": [],
   "source": [
    "import scipy as sc"
   ]
  },
  {
   "cell_type": "code",
   "execution_count": 191,
   "metadata": {},
   "outputs": [],
   "source": [
    "from sklearn.tree import DecisionTreeClassifier"
   ]
  },
  {
   "cell_type": "code",
   "execution_count": 210,
   "metadata": {},
   "outputs": [
    {
     "data": {
      "text/plain": [
       "(0.7143875659489519, 0.6403899721448468)"
      ]
     },
     "execution_count": 210,
     "metadata": {},
     "output_type": "execute_result"
    }
   ],
   "source": [
    "tree = DecisionTreeClassifier(max_depth=20, min_samples_split=4)\n",
    "tree.fit(X_train_c, y_train_c)\n",
    "tree.score(X_train_c, y_train_c), tree.score(X_test_c, y_test_c)"
   ]
  },
  {
   "cell_type": "code",
   "execution_count": 197,
   "metadata": {},
   "outputs": [
    {
     "data": {
      "text/plain": [
       "<bound method BaseEstimator.get_params of DecisionTreeClassifier(class_weight=None, criterion='gini', max_depth=None,\n",
       "            max_features=None, max_leaf_nodes=None,\n",
       "            min_impurity_decrease=0.0, min_impurity_split=None,\n",
       "            min_samples_leaf=1, min_samples_split=2,\n",
       "            min_weight_fraction_leaf=0.0, presort=False, random_state=None,\n",
       "            splitter='best')>"
      ]
     },
     "execution_count": 197,
     "metadata": {},
     "output_type": "execute_result"
    }
   ],
   "source": []
  },
  {
   "cell_type": "code",
   "execution_count": 173,
   "metadata": {},
   "outputs": [
    {
     "data": {
      "text/plain": [
       "1    241778\n",
       "2    100904\n",
       "0     34267\n",
       "Name: sent_class, dtype: int64"
      ]
     },
     "execution_count": 173,
     "metadata": {},
     "output_type": "execute_result"
    }
   ],
   "source": [
    "yc.sent_class.value_counts()"
   ]
  },
  {
   "cell_type": "code",
   "execution_count": 174,
   "metadata": {},
   "outputs": [
    {
     "data": {
      "text/plain": [
       "0.6414077235912551"
      ]
     },
     "execution_count": 174,
     "metadata": {},
     "output_type": "execute_result"
    }
   ],
   "source": [
    "241778/(len(yc))"
   ]
  },
  {
   "cell_type": "code",
   "execution_count": 161,
   "metadata": {},
   "outputs": [
    {
     "name": "stderr",
     "output_type": "stream",
     "text": [
      "/Users/LujFel/anaconda3/lib/python3.7/site-packages/sklearn/utils/validation.py:578: DataConversionWarning: A column-vector y was passed when a 1d array was expected. Please change the shape of y to (n_samples, ), for example using ravel().\n",
      "  y = column_or_1d(y, warn=True)\n"
     ]
    }
   ],
   "source": [
    "# from imblearn.over_sampling import SMOTE\n",
    "# Xres_train,Xres_test , yres_train, yres_test = train_test_split(X, y, test_size = 0.25)\n",
    "\n",
    "\n",
    "# smote = SMOTE()\n",
    "# Xres_train, yres_train = smote.fit_resample(Xres_train, yres_train)"
   ]
  },
  {
   "cell_type": "code",
   "execution_count": 163,
   "metadata": {},
   "outputs": [
    {
     "data": {
      "text/plain": [
       "(0.47665719478199264, 0.4683385237392777)"
      ]
     },
     "execution_count": 163,
     "metadata": {},
     "output_type": "execute_result"
    }
   ],
   "source": [
    "# from sklearn.linear_model import LogisticRegressionCV\n",
    "\n",
    "# model_res = LogisticRegression()\n",
    "# model_res.fit(Xres_train, yres_train) \n",
    "# model_res.score(Xres_train, yres_train), model_res.score(Xres_test, yres_test)"
   ]
  },
  {
   "cell_type": "code",
   "execution_count": 188,
   "metadata": {},
   "outputs": [
    {
     "data": {
      "text/plain": [
       "2    173144\n",
       "1    173144\n",
       "0    173144\n",
       "dtype: int64"
      ]
     },
     "execution_count": 188,
     "metadata": {},
     "output_type": "execute_result"
    }
   ],
   "source": [
    "# pd.Series(yres_train).value_counts()"
   ]
  },
  {
   "cell_type": "code",
   "execution_count": 176,
   "metadata": {},
   "outputs": [],
   "source": [
    "df = ff[['id', 'username', '0', '1', '2', '3', '4', '5', '6', '7', '8', '9', 'DayOfWeek', 'Month', 'Hour', 'sentiment', 'sent_class']]"
   ]
  },
  {
   "cell_type": "code",
   "execution_count": 177,
   "metadata": {},
   "outputs": [
    {
     "data": {
      "text/html": [
       "<div>\n",
       "<style scoped>\n",
       "    .dataframe tbody tr th:only-of-type {\n",
       "        vertical-align: middle;\n",
       "    }\n",
       "\n",
       "    .dataframe tbody tr th {\n",
       "        vertical-align: top;\n",
       "    }\n",
       "\n",
       "    .dataframe thead th {\n",
       "        text-align: right;\n",
       "    }\n",
       "</style>\n",
       "<table border=\"1\" class=\"dataframe\">\n",
       "  <thead>\n",
       "    <tr style=\"text-align: right;\">\n",
       "      <th></th>\n",
       "      <th>id</th>\n",
       "      <th>username</th>\n",
       "      <th>0</th>\n",
       "      <th>1</th>\n",
       "      <th>2</th>\n",
       "      <th>3</th>\n",
       "      <th>4</th>\n",
       "      <th>5</th>\n",
       "      <th>6</th>\n",
       "      <th>7</th>\n",
       "      <th>8</th>\n",
       "      <th>9</th>\n",
       "      <th>DayOfWeek</th>\n",
       "      <th>Month</th>\n",
       "      <th>Hour</th>\n",
       "      <th>sentiment</th>\n",
       "      <th>sent_class</th>\n",
       "    </tr>\n",
       "  </thead>\n",
       "  <tbody>\n",
       "    <tr>\n",
       "      <th>0</th>\n",
       "      <td>1.045203e+18</td>\n",
       "      <td>10mgp</td>\n",
       "      <td>0.010058</td>\n",
       "      <td>0.010058</td>\n",
       "      <td>0.228744</td>\n",
       "      <td>0.487173</td>\n",
       "      <td>0.113148</td>\n",
       "      <td>0.010058</td>\n",
       "      <td>0.010058</td>\n",
       "      <td>0.010058</td>\n",
       "      <td>0.010060</td>\n",
       "      <td>0.110585</td>\n",
       "      <td>3</td>\n",
       "      <td>9</td>\n",
       "      <td>6</td>\n",
       "      <td>0.500000</td>\n",
       "      <td>2</td>\n",
       "    </tr>\n",
       "    <tr>\n",
       "      <th>1</th>\n",
       "      <td>1.036687e+18</td>\n",
       "      <td>10mgp</td>\n",
       "      <td>0.000000</td>\n",
       "      <td>0.129514</td>\n",
       "      <td>0.303850</td>\n",
       "      <td>0.000000</td>\n",
       "      <td>0.000000</td>\n",
       "      <td>0.000000</td>\n",
       "      <td>0.000000</td>\n",
       "      <td>0.000000</td>\n",
       "      <td>0.508295</td>\n",
       "      <td>0.000000</td>\n",
       "      <td>0</td>\n",
       "      <td>9</td>\n",
       "      <td>18</td>\n",
       "      <td>-0.085185</td>\n",
       "      <td>1</td>\n",
       "    </tr>\n",
       "    <tr>\n",
       "      <th>2</th>\n",
       "      <td>1.028857e+18</td>\n",
       "      <td>10mgp</td>\n",
       "      <td>0.157130</td>\n",
       "      <td>0.157147</td>\n",
       "      <td>0.014292</td>\n",
       "      <td>0.014292</td>\n",
       "      <td>0.157099</td>\n",
       "      <td>0.157097</td>\n",
       "      <td>0.014292</td>\n",
       "      <td>0.300065</td>\n",
       "      <td>0.014292</td>\n",
       "      <td>0.014292</td>\n",
       "      <td>0</td>\n",
       "      <td>8</td>\n",
       "      <td>4</td>\n",
       "      <td>0.333333</td>\n",
       "      <td>2</td>\n",
       "    </tr>\n",
       "    <tr>\n",
       "      <th>3</th>\n",
       "      <td>1.017129e+18</td>\n",
       "      <td>10mgp</td>\n",
       "      <td>0.157129</td>\n",
       "      <td>0.157156</td>\n",
       "      <td>0.014287</td>\n",
       "      <td>0.014288</td>\n",
       "      <td>0.299989</td>\n",
       "      <td>0.014289</td>\n",
       "      <td>0.157153</td>\n",
       "      <td>0.157131</td>\n",
       "      <td>0.014290</td>\n",
       "      <td>0.014287</td>\n",
       "      <td>2</td>\n",
       "      <td>7</td>\n",
       "      <td>19</td>\n",
       "      <td>0.600000</td>\n",
       "      <td>2</td>\n",
       "    </tr>\n",
       "    <tr>\n",
       "      <th>4</th>\n",
       "      <td>1.013736e+18</td>\n",
       "      <td>10mgp</td>\n",
       "      <td>0.020004</td>\n",
       "      <td>0.219996</td>\n",
       "      <td>0.020004</td>\n",
       "      <td>0.419946</td>\n",
       "      <td>0.020008</td>\n",
       "      <td>0.020004</td>\n",
       "      <td>0.020004</td>\n",
       "      <td>0.020004</td>\n",
       "      <td>0.020007</td>\n",
       "      <td>0.220022</td>\n",
       "      <td>0</td>\n",
       "      <td>7</td>\n",
       "      <td>10</td>\n",
       "      <td>0.000000</td>\n",
       "      <td>1</td>\n",
       "    </tr>\n",
       "  </tbody>\n",
       "</table>\n",
       "</div>"
      ],
      "text/plain": [
       "             id username         0         1         2         3         4  \\\n",
       "0  1.045203e+18    10mgp  0.010058  0.010058  0.228744  0.487173  0.113148   \n",
       "1  1.036687e+18    10mgp  0.000000  0.129514  0.303850  0.000000  0.000000   \n",
       "2  1.028857e+18    10mgp  0.157130  0.157147  0.014292  0.014292  0.157099   \n",
       "3  1.017129e+18    10mgp  0.157129  0.157156  0.014287  0.014288  0.299989   \n",
       "4  1.013736e+18    10mgp  0.020004  0.219996  0.020004  0.419946  0.020008   \n",
       "\n",
       "          5         6         7         8         9  DayOfWeek  Month  Hour  \\\n",
       "0  0.010058  0.010058  0.010058  0.010060  0.110585          3      9     6   \n",
       "1  0.000000  0.000000  0.000000  0.508295  0.000000          0      9    18   \n",
       "2  0.157097  0.014292  0.300065  0.014292  0.014292          0      8     4   \n",
       "3  0.014289  0.157153  0.157131  0.014290  0.014287          2      7    19   \n",
       "4  0.020004  0.020004  0.020004  0.020007  0.220022          0      7    10   \n",
       "\n",
       "   sentiment  sent_class  \n",
       "0   0.500000           2  \n",
       "1  -0.085185           1  \n",
       "2   0.333333           2  \n",
       "3   0.600000           2  \n",
       "4   0.000000           1  "
      ]
     },
     "execution_count": 177,
     "metadata": {},
     "output_type": "execute_result"
    }
   ],
   "source": [
    "df.head()"
   ]
  },
  {
   "cell_type": "code",
   "execution_count": 178,
   "metadata": {},
   "outputs": [],
   "source": [
    "# df.to_csv('FINAL_DATAFRAME_CLASS.csv')"
   ]
  },
  {
   "cell_type": "code",
   "execution_count": 180,
   "metadata": {},
   "outputs": [],
   "source": [
    "df_drop = df[df.sent_class != 1]"
   ]
  },
  {
   "cell_type": "code",
   "execution_count": 181,
   "metadata": {},
   "outputs": [
    {
     "data": {
      "text/plain": [
       "422"
      ]
     },
     "execution_count": 181,
     "metadata": {},
     "output_type": "execute_result"
    }
   ],
   "source": [
    "df_drop.username.nunique()"
   ]
  },
  {
   "cell_type": "code",
   "execution_count": 182,
   "metadata": {},
   "outputs": [
    {
     "name": "stdout",
     "output_type": "stream",
     "text": [
      "<class 'pandas.core.frame.DataFrame'>\n",
      "Int64Index: 135171 entries, 0 to 376948\n",
      "Data columns (total 17 columns):\n",
      "id            135171 non-null float64\n",
      "username      135171 non-null object\n",
      "0             135171 non-null float64\n",
      "1             135171 non-null float64\n",
      "2             135171 non-null float64\n",
      "3             135171 non-null float64\n",
      "4             135171 non-null float64\n",
      "5             135171 non-null float64\n",
      "6             135171 non-null float64\n",
      "7             135171 non-null float64\n",
      "8             135171 non-null float64\n",
      "9             135171 non-null float64\n",
      "DayOfWeek     135171 non-null int64\n",
      "Month         135171 non-null int64\n",
      "Hour          135171 non-null int64\n",
      "sentiment     135171 non-null float64\n",
      "sent_class    135171 non-null int64\n",
      "dtypes: float64(12), int64(4), object(1)\n",
      "memory usage: 18.6+ MB\n"
     ]
    }
   ],
   "source": [
    "df_drop.info()"
   ]
  },
  {
   "cell_type": "code",
   "execution_count": 186,
   "metadata": {},
   "outputs": [
    {
     "name": "stderr",
     "output_type": "stream",
     "text": [
      "/Users/LujFel/anaconda3/lib/python3.7/site-packages/sklearn/preprocessing/data.py:625: DataConversionWarning: Data with input dtype uint8, int64, float64 were all converted to float64 by StandardScaler.\n",
      "  return self.partial_fit(X, y)\n",
      "/Users/LujFel/anaconda3/lib/python3.7/site-packages/sklearn/base.py:462: DataConversionWarning: Data with input dtype uint8, int64, float64 were all converted to float64 by StandardScaler.\n",
      "  return self.fit(X, **fit_params).transform(X)\n"
     ]
    }
   ],
   "source": [
    "X = df_drop[['username', '0', '1', '2', '3', '4', '5', '6', '7', '8', '9', 'DayOfWeek', 'Month', 'Hour']]\n",
    "X = pd.get_dummies(X)\n",
    "\n",
    "scaler = StandardScaler()\n",
    "X = pd.DataFrame(scaler.fit_transform(X), columns=X.columns)"
   ]
  },
  {
   "cell_type": "code",
   "execution_count": 184,
   "metadata": {},
   "outputs": [],
   "source": [
    "y = df_drop[['sentiment']]"
   ]
  },
  {
   "cell_type": "code",
   "execution_count": 185,
   "metadata": {},
   "outputs": [],
   "source": [
    "yc = df_drop[['sent_class']]"
   ]
  },
  {
   "cell_type": "code",
   "execution_count": 187,
   "metadata": {},
   "outputs": [
    {
     "name": "stdout",
     "output_type": "stream",
     "text": [
      "scores:  [-6.79071772e+27 -6.69208560e+27 -6.78107015e+27 -6.68599736e+27\n",
      " -7.40864869e+26]\n",
      "socres mean:  -5.538147138503505e+27\n"
     ]
    }
   ],
   "source": [
    "model_lr = LinearRegression()\n",
    "scores = cross_val_score(model_lr,X,y,cv=5)\n",
    "print('scores: ',scores)\n",
    "print('socres mean: ',scores.mean())"
   ]
  },
  {
   "cell_type": "code",
   "execution_count": 188,
   "metadata": {
    "scrolled": true
   },
   "outputs": [
    {
     "name": "stderr",
     "output_type": "stream",
     "text": [
      "/Users/LujFel/anaconda3/lib/python3.7/site-packages/sklearn/utils/validation.py:761: DataConversionWarning: A column-vector y was passed when a 1d array was expected. Please change the shape of y to (n_samples, ), for example using ravel().\n",
      "  y = column_or_1d(y, warn=True)\n",
      "/Users/LujFel/anaconda3/lib/python3.7/site-packages/sklearn/utils/validation.py:761: DataConversionWarning: A column-vector y was passed when a 1d array was expected. Please change the shape of y to (n_samples, ), for example using ravel().\n",
      "  y = column_or_1d(y, warn=True)\n",
      "/Users/LujFel/anaconda3/lib/python3.7/site-packages/sklearn/utils/validation.py:761: DataConversionWarning: A column-vector y was passed when a 1d array was expected. Please change the shape of y to (n_samples, ), for example using ravel().\n",
      "  y = column_or_1d(y, warn=True)\n",
      "/Users/LujFel/anaconda3/lib/python3.7/site-packages/sklearn/utils/validation.py:761: DataConversionWarning: A column-vector y was passed when a 1d array was expected. Please change the shape of y to (n_samples, ), for example using ravel().\n",
      "  y = column_or_1d(y, warn=True)\n",
      "/Users/LujFel/anaconda3/lib/python3.7/site-packages/sklearn/utils/validation.py:761: DataConversionWarning: A column-vector y was passed when a 1d array was expected. Please change the shape of y to (n_samples, ), for example using ravel().\n",
      "  y = column_or_1d(y, warn=True)\n"
     ]
    }
   ],
   "source": [
    "logreg = LogisticRegression(solver='lbfgs', multi_class='multinomial')\n",
    "scores = cross_val_score(logreg,X,yc,cv=5)"
   ]
  },
  {
   "cell_type": "code",
   "execution_count": 189,
   "metadata": {},
   "outputs": [
    {
     "data": {
      "text/plain": [
       "array([0.58601812, 0.59371186, 0.51853222, 0.54261301, 0.55287981])"
      ]
     },
     "execution_count": 189,
     "metadata": {},
     "output_type": "execute_result"
    }
   ],
   "source": [
    "scores"
   ]
  }
 ],
 "metadata": {
  "kernelspec": {
   "display_name": "Python 3",
   "language": "python",
   "name": "python3"
  },
  "language_info": {
   "codemirror_mode": {
    "name": "ipython",
    "version": 3
   },
   "file_extension": ".py",
   "mimetype": "text/x-python",
   "name": "python",
   "nbconvert_exporter": "python",
   "pygments_lexer": "ipython3",
   "version": "3.7.3"
  }
 },
 "nbformat": 4,
 "nbformat_minor": 2
}
