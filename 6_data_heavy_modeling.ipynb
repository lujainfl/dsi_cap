{
 "cells": [
  {
   "cell_type": "code",
   "execution_count": 19,
   "metadata": {},
   "outputs": [],
   "source": [
    "import pandas as pd\n",
    "import seaborn as sns\n",
    "import numpy as np"
   ]
  },
  {
   "cell_type": "markdown",
   "metadata": {},
   "source": [
    "# Modelling"
   ]
  },
  {
   "cell_type": "code",
   "execution_count": 4,
   "metadata": {},
   "outputs": [],
   "source": [
    "df = pd.read_csv('FINAL_DATAFRAME.csv')"
   ]
  },
  {
   "cell_type": "code",
   "execution_count": 5,
   "metadata": {},
   "outputs": [
    {
     "data": {
      "text/html": [
       "<div>\n",
       "<style scoped>\n",
       "    .dataframe tbody tr th:only-of-type {\n",
       "        vertical-align: middle;\n",
       "    }\n",
       "\n",
       "    .dataframe tbody tr th {\n",
       "        vertical-align: top;\n",
       "    }\n",
       "\n",
       "    .dataframe thead th {\n",
       "        text-align: right;\n",
       "    }\n",
       "</style>\n",
       "<table border=\"1\" class=\"dataframe\">\n",
       "  <thead>\n",
       "    <tr style=\"text-align: right;\">\n",
       "      <th></th>\n",
       "      <th>Unnamed: 0</th>\n",
       "      <th>id</th>\n",
       "      <th>date</th>\n",
       "      <th>time</th>\n",
       "      <th>username</th>\n",
       "      <th>tweet</th>\n",
       "      <th>mentions</th>\n",
       "      <th>hashtags</th>\n",
       "      <th>topics</th>\n",
       "      <th>0</th>\n",
       "      <th>...</th>\n",
       "      <th>6</th>\n",
       "      <th>7</th>\n",
       "      <th>8</th>\n",
       "      <th>9</th>\n",
       "      <th>sentiment</th>\n",
       "      <th>Timestamp</th>\n",
       "      <th>DayOfWeek</th>\n",
       "      <th>Month</th>\n",
       "      <th>Hour</th>\n",
       "      <th>sent_class</th>\n",
       "    </tr>\n",
       "  </thead>\n",
       "  <tbody>\n",
       "    <tr>\n",
       "      <th>0</th>\n",
       "      <td>0</td>\n",
       "      <td>1.045203e+18</td>\n",
       "      <td>2018-09-27</td>\n",
       "      <td>06:47:22</td>\n",
       "      <td>10mgp</td>\n",
       "      <td>['sure', 'luci', 'couldnt', 'miss', 'see', 'sp...</td>\n",
       "      <td>['lucylucyprior', 'xrailgroup', 'transcityrail']</td>\n",
       "      <td>NaN</td>\n",
       "      <td>{0: 0.0100580305, 1: 0.0100580305, 2: 0.228744...</td>\n",
       "      <td>0.010058</td>\n",
       "      <td>...</td>\n",
       "      <td>0.010058</td>\n",
       "      <td>0.010058</td>\n",
       "      <td>0.010060</td>\n",
       "      <td>0.110585</td>\n",
       "      <td>0.500000</td>\n",
       "      <td>2018-09-27 06:47:22</td>\n",
       "      <td>3</td>\n",
       "      <td>9</td>\n",
       "      <td>6</td>\n",
       "      <td>2</td>\n",
       "    </tr>\n",
       "    <tr>\n",
       "      <th>1</th>\n",
       "      <td>1</td>\n",
       "      <td>1.036687e+18</td>\n",
       "      <td>2018-09-03</td>\n",
       "      <td>18:48:27</td>\n",
       "      <td>10mgp</td>\n",
       "      <td>['darbaarbyabdul', 'guy', 'close', 'tri', 'pho...</td>\n",
       "      <td>['darbaarbyabdul']</td>\n",
       "      <td>NaN</td>\n",
       "      <td>{1: 0.12951413, 2: 0.30384994, 8: 0.50829476}</td>\n",
       "      <td>0.000000</td>\n",
       "      <td>...</td>\n",
       "      <td>0.000000</td>\n",
       "      <td>0.000000</td>\n",
       "      <td>0.508295</td>\n",
       "      <td>0.000000</td>\n",
       "      <td>-0.085185</td>\n",
       "      <td>2018-09-03 18:48:27</td>\n",
       "      <td>0</td>\n",
       "      <td>9</td>\n",
       "      <td>18</td>\n",
       "      <td>1</td>\n",
       "    </tr>\n",
       "    <tr>\n",
       "      <th>2</th>\n",
       "      <td>2</td>\n",
       "      <td>1.028857e+18</td>\n",
       "      <td>2018-08-13</td>\n",
       "      <td>04:15:16</td>\n",
       "      <td>10mgp</td>\n",
       "      <td>['british', 'airway', 'safeti', 'lucki', 'serv...</td>\n",
       "      <td>['johnmsv', 'emirates', 'british_airways']</td>\n",
       "      <td>NaN</td>\n",
       "      <td>{0: 0.15713021, 1: 0.15714662, 2: 0.014292412,...</td>\n",
       "      <td>0.157130</td>\n",
       "      <td>...</td>\n",
       "      <td>0.014292</td>\n",
       "      <td>0.300065</td>\n",
       "      <td>0.014292</td>\n",
       "      <td>0.014292</td>\n",
       "      <td>0.333333</td>\n",
       "      <td>2018-08-13 04:15:16</td>\n",
       "      <td>0</td>\n",
       "      <td>8</td>\n",
       "      <td>4</td>\n",
       "      <td>2</td>\n",
       "    </tr>\n",
       "    <tr>\n",
       "      <th>3</th>\n",
       "      <td>3</td>\n",
       "      <td>1.017129e+18</td>\n",
       "      <td>2018-07-11</td>\n",
       "      <td>19:30:04</td>\n",
       "      <td>10mgp</td>\n",
       "      <td>['ive', 'enter', 'autotradergo', 'chanc', 'win...</td>\n",
       "      <td>NaN</td>\n",
       "      <td>['#autotradergoals']</td>\n",
       "      <td>{0: 0.15712872, 1: 0.15715624, 2: 0.014287142,...</td>\n",
       "      <td>0.157129</td>\n",
       "      <td>...</td>\n",
       "      <td>0.157153</td>\n",
       "      <td>0.157131</td>\n",
       "      <td>0.014290</td>\n",
       "      <td>0.014287</td>\n",
       "      <td>0.600000</td>\n",
       "      <td>2018-07-11 19:30:04</td>\n",
       "      <td>2</td>\n",
       "      <td>7</td>\n",
       "      <td>19</td>\n",
       "      <td>2</td>\n",
       "    </tr>\n",
       "    <tr>\n",
       "      <th>4</th>\n",
       "      <td>4</td>\n",
       "      <td>1.013736e+18</td>\n",
       "      <td>2018-07-02</td>\n",
       "      <td>10:45:58</td>\n",
       "      <td>10mgp</td>\n",
       "      <td>['becci', 'sent', 'ongo', 'issu', 'thank']</td>\n",
       "      <td>['landrover_uk']</td>\n",
       "      <td>NaN</td>\n",
       "      <td>{0: 0.020004185, 1: 0.21999583, 2: 0.020004185...</td>\n",
       "      <td>0.020004</td>\n",
       "      <td>...</td>\n",
       "      <td>0.020004</td>\n",
       "      <td>0.020004</td>\n",
       "      <td>0.020007</td>\n",
       "      <td>0.220022</td>\n",
       "      <td>0.000000</td>\n",
       "      <td>2018-07-02 10:45:58</td>\n",
       "      <td>0</td>\n",
       "      <td>7</td>\n",
       "      <td>10</td>\n",
       "      <td>1</td>\n",
       "    </tr>\n",
       "  </tbody>\n",
       "</table>\n",
       "<p>5 rows × 25 columns</p>\n",
       "</div>"
      ],
      "text/plain": [
       "   Unnamed: 0            id        date      time username  \\\n",
       "0           0  1.045203e+18  2018-09-27  06:47:22    10mgp   \n",
       "1           1  1.036687e+18  2018-09-03  18:48:27    10mgp   \n",
       "2           2  1.028857e+18  2018-08-13  04:15:16    10mgp   \n",
       "3           3  1.017129e+18  2018-07-11  19:30:04    10mgp   \n",
       "4           4  1.013736e+18  2018-07-02  10:45:58    10mgp   \n",
       "\n",
       "                                               tweet  \\\n",
       "0  ['sure', 'luci', 'couldnt', 'miss', 'see', 'sp...   \n",
       "1  ['darbaarbyabdul', 'guy', 'close', 'tri', 'pho...   \n",
       "2  ['british', 'airway', 'safeti', 'lucki', 'serv...   \n",
       "3  ['ive', 'enter', 'autotradergo', 'chanc', 'win...   \n",
       "4         ['becci', 'sent', 'ongo', 'issu', 'thank']   \n",
       "\n",
       "                                           mentions              hashtags  \\\n",
       "0  ['lucylucyprior', 'xrailgroup', 'transcityrail']                   NaN   \n",
       "1                                ['darbaarbyabdul']                   NaN   \n",
       "2        ['johnmsv', 'emirates', 'british_airways']                   NaN   \n",
       "3                                               NaN  ['#autotradergoals']   \n",
       "4                                  ['landrover_uk']                   NaN   \n",
       "\n",
       "                                              topics         0     ...      \\\n",
       "0  {0: 0.0100580305, 1: 0.0100580305, 2: 0.228744...  0.010058     ...       \n",
       "1      {1: 0.12951413, 2: 0.30384994, 8: 0.50829476}  0.000000     ...       \n",
       "2  {0: 0.15713021, 1: 0.15714662, 2: 0.014292412,...  0.157130     ...       \n",
       "3  {0: 0.15712872, 1: 0.15715624, 2: 0.014287142,...  0.157129     ...       \n",
       "4  {0: 0.020004185, 1: 0.21999583, 2: 0.020004185...  0.020004     ...       \n",
       "\n",
       "          6         7         8         9  sentiment            Timestamp  \\\n",
       "0  0.010058  0.010058  0.010060  0.110585   0.500000  2018-09-27 06:47:22   \n",
       "1  0.000000  0.000000  0.508295  0.000000  -0.085185  2018-09-03 18:48:27   \n",
       "2  0.014292  0.300065  0.014292  0.014292   0.333333  2018-08-13 04:15:16   \n",
       "3  0.157153  0.157131  0.014290  0.014287   0.600000  2018-07-11 19:30:04   \n",
       "4  0.020004  0.020004  0.020007  0.220022   0.000000  2018-07-02 10:45:58   \n",
       "\n",
       "   DayOfWeek  Month  Hour  sent_class  \n",
       "0          3      9     6           2  \n",
       "1          0      9    18           1  \n",
       "2          0      8     4           2  \n",
       "3          2      7    19           2  \n",
       "4          0      7    10           1  \n",
       "\n",
       "[5 rows x 25 columns]"
      ]
     },
     "execution_count": 5,
     "metadata": {},
     "output_type": "execute_result"
    }
   ],
   "source": [
    "df.head()"
   ]
  },
  {
   "cell_type": "code",
   "execution_count": 6,
   "metadata": {},
   "outputs": [],
   "source": [
    "af = df[['id', 'username', '0', '1', '2', '3', '4', '5', '6', '7', '8', '9', 'DayOfWeek', 'Month', 'Hour', 'sentiment']]"
   ]
  },
  {
   "cell_type": "code",
   "execution_count": 7,
   "metadata": {},
   "outputs": [
    {
     "data": {
      "text/html": [
       "<div>\n",
       "<style scoped>\n",
       "    .dataframe tbody tr th:only-of-type {\n",
       "        vertical-align: middle;\n",
       "    }\n",
       "\n",
       "    .dataframe tbody tr th {\n",
       "        vertical-align: top;\n",
       "    }\n",
       "\n",
       "    .dataframe thead th {\n",
       "        text-align: right;\n",
       "    }\n",
       "</style>\n",
       "<table border=\"1\" class=\"dataframe\">\n",
       "  <thead>\n",
       "    <tr style=\"text-align: right;\">\n",
       "      <th></th>\n",
       "      <th>id</th>\n",
       "      <th>username</th>\n",
       "      <th>0</th>\n",
       "      <th>1</th>\n",
       "      <th>2</th>\n",
       "      <th>3</th>\n",
       "      <th>4</th>\n",
       "      <th>5</th>\n",
       "      <th>6</th>\n",
       "      <th>7</th>\n",
       "      <th>8</th>\n",
       "      <th>9</th>\n",
       "      <th>DayOfWeek</th>\n",
       "      <th>Month</th>\n",
       "      <th>Hour</th>\n",
       "      <th>sentiment</th>\n",
       "    </tr>\n",
       "  </thead>\n",
       "  <tbody>\n",
       "    <tr>\n",
       "      <th>0</th>\n",
       "      <td>1.045203e+18</td>\n",
       "      <td>10mgp</td>\n",
       "      <td>0.010058</td>\n",
       "      <td>0.010058</td>\n",
       "      <td>0.228744</td>\n",
       "      <td>0.487173</td>\n",
       "      <td>0.113148</td>\n",
       "      <td>0.010058</td>\n",
       "      <td>0.010058</td>\n",
       "      <td>0.010058</td>\n",
       "      <td>0.010060</td>\n",
       "      <td>0.110585</td>\n",
       "      <td>3</td>\n",
       "      <td>9</td>\n",
       "      <td>6</td>\n",
       "      <td>0.500000</td>\n",
       "    </tr>\n",
       "    <tr>\n",
       "      <th>1</th>\n",
       "      <td>1.036687e+18</td>\n",
       "      <td>10mgp</td>\n",
       "      <td>0.000000</td>\n",
       "      <td>0.129514</td>\n",
       "      <td>0.303850</td>\n",
       "      <td>0.000000</td>\n",
       "      <td>0.000000</td>\n",
       "      <td>0.000000</td>\n",
       "      <td>0.000000</td>\n",
       "      <td>0.000000</td>\n",
       "      <td>0.508295</td>\n",
       "      <td>0.000000</td>\n",
       "      <td>0</td>\n",
       "      <td>9</td>\n",
       "      <td>18</td>\n",
       "      <td>-0.085185</td>\n",
       "    </tr>\n",
       "    <tr>\n",
       "      <th>2</th>\n",
       "      <td>1.028857e+18</td>\n",
       "      <td>10mgp</td>\n",
       "      <td>0.157130</td>\n",
       "      <td>0.157147</td>\n",
       "      <td>0.014292</td>\n",
       "      <td>0.014292</td>\n",
       "      <td>0.157099</td>\n",
       "      <td>0.157097</td>\n",
       "      <td>0.014292</td>\n",
       "      <td>0.300065</td>\n",
       "      <td>0.014292</td>\n",
       "      <td>0.014292</td>\n",
       "      <td>0</td>\n",
       "      <td>8</td>\n",
       "      <td>4</td>\n",
       "      <td>0.333333</td>\n",
       "    </tr>\n",
       "    <tr>\n",
       "      <th>3</th>\n",
       "      <td>1.017129e+18</td>\n",
       "      <td>10mgp</td>\n",
       "      <td>0.157129</td>\n",
       "      <td>0.157156</td>\n",
       "      <td>0.014287</td>\n",
       "      <td>0.014288</td>\n",
       "      <td>0.299989</td>\n",
       "      <td>0.014289</td>\n",
       "      <td>0.157153</td>\n",
       "      <td>0.157131</td>\n",
       "      <td>0.014290</td>\n",
       "      <td>0.014287</td>\n",
       "      <td>2</td>\n",
       "      <td>7</td>\n",
       "      <td>19</td>\n",
       "      <td>0.600000</td>\n",
       "    </tr>\n",
       "    <tr>\n",
       "      <th>4</th>\n",
       "      <td>1.013736e+18</td>\n",
       "      <td>10mgp</td>\n",
       "      <td>0.020004</td>\n",
       "      <td>0.219996</td>\n",
       "      <td>0.020004</td>\n",
       "      <td>0.419946</td>\n",
       "      <td>0.020008</td>\n",
       "      <td>0.020004</td>\n",
       "      <td>0.020004</td>\n",
       "      <td>0.020004</td>\n",
       "      <td>0.020007</td>\n",
       "      <td>0.220022</td>\n",
       "      <td>0</td>\n",
       "      <td>7</td>\n",
       "      <td>10</td>\n",
       "      <td>0.000000</td>\n",
       "    </tr>\n",
       "  </tbody>\n",
       "</table>\n",
       "</div>"
      ],
      "text/plain": [
       "             id username         0         1         2         3         4  \\\n",
       "0  1.045203e+18    10mgp  0.010058  0.010058  0.228744  0.487173  0.113148   \n",
       "1  1.036687e+18    10mgp  0.000000  0.129514  0.303850  0.000000  0.000000   \n",
       "2  1.028857e+18    10mgp  0.157130  0.157147  0.014292  0.014292  0.157099   \n",
       "3  1.017129e+18    10mgp  0.157129  0.157156  0.014287  0.014288  0.299989   \n",
       "4  1.013736e+18    10mgp  0.020004  0.219996  0.020004  0.419946  0.020008   \n",
       "\n",
       "          5         6         7         8         9  DayOfWeek  Month  Hour  \\\n",
       "0  0.010058  0.010058  0.010058  0.010060  0.110585          3      9     6   \n",
       "1  0.000000  0.000000  0.000000  0.508295  0.000000          0      9    18   \n",
       "2  0.157097  0.014292  0.300065  0.014292  0.014292          0      8     4   \n",
       "3  0.014289  0.157153  0.157131  0.014290  0.014287          2      7    19   \n",
       "4  0.020004  0.020004  0.020004  0.020007  0.220022          0      7    10   \n",
       "\n",
       "   sentiment  \n",
       "0   0.500000  \n",
       "1  -0.085185  \n",
       "2   0.333333  \n",
       "3   0.600000  \n",
       "4   0.000000  "
      ]
     },
     "execution_count": 7,
     "metadata": {},
     "output_type": "execute_result"
    }
   ],
   "source": [
    "af.head()"
   ]
  },
  {
   "cell_type": "code",
   "execution_count": 8,
   "metadata": {},
   "outputs": [],
   "source": [
    "import matplotlib.pyplot as plt"
   ]
  },
  {
   "cell_type": "code",
   "execution_count": 2,
   "metadata": {},
   "outputs": [],
   "source": [
    "kf =  pd.read_csv('FINAL_DATAFRAME_CLASS.csv')"
   ]
  },
  {
   "cell_type": "code",
   "execution_count": 3,
   "metadata": {},
   "outputs": [],
   "source": [
    "kf.drop(['Unnamed: 0'], axis=1, inplace=True)"
   ]
  },
  {
   "cell_type": "code",
   "execution_count": 4,
   "metadata": {},
   "outputs": [
    {
     "data": {
      "text/html": [
       "<div>\n",
       "<style scoped>\n",
       "    .dataframe tbody tr th:only-of-type {\n",
       "        vertical-align: middle;\n",
       "    }\n",
       "\n",
       "    .dataframe tbody tr th {\n",
       "        vertical-align: top;\n",
       "    }\n",
       "\n",
       "    .dataframe thead th {\n",
       "        text-align: right;\n",
       "    }\n",
       "</style>\n",
       "<table border=\"1\" class=\"dataframe\">\n",
       "  <thead>\n",
       "    <tr style=\"text-align: right;\">\n",
       "      <th></th>\n",
       "      <th>id</th>\n",
       "      <th>username</th>\n",
       "      <th>0</th>\n",
       "      <th>1</th>\n",
       "      <th>2</th>\n",
       "      <th>3</th>\n",
       "      <th>4</th>\n",
       "      <th>5</th>\n",
       "      <th>6</th>\n",
       "      <th>7</th>\n",
       "      <th>8</th>\n",
       "      <th>9</th>\n",
       "      <th>DayOfWeek</th>\n",
       "      <th>Month</th>\n",
       "      <th>Hour</th>\n",
       "      <th>sentiment</th>\n",
       "      <th>sent_class</th>\n",
       "    </tr>\n",
       "  </thead>\n",
       "  <tbody>\n",
       "    <tr>\n",
       "      <th>0</th>\n",
       "      <td>1.045203e+18</td>\n",
       "      <td>10mgp</td>\n",
       "      <td>0.010058</td>\n",
       "      <td>0.010058</td>\n",
       "      <td>0.228744</td>\n",
       "      <td>0.487173</td>\n",
       "      <td>0.113148</td>\n",
       "      <td>0.010058</td>\n",
       "      <td>0.010058</td>\n",
       "      <td>0.010058</td>\n",
       "      <td>0.010060</td>\n",
       "      <td>0.110585</td>\n",
       "      <td>3</td>\n",
       "      <td>9</td>\n",
       "      <td>6</td>\n",
       "      <td>0.500000</td>\n",
       "      <td>2</td>\n",
       "    </tr>\n",
       "    <tr>\n",
       "      <th>1</th>\n",
       "      <td>1.036687e+18</td>\n",
       "      <td>10mgp</td>\n",
       "      <td>0.000000</td>\n",
       "      <td>0.129514</td>\n",
       "      <td>0.303850</td>\n",
       "      <td>0.000000</td>\n",
       "      <td>0.000000</td>\n",
       "      <td>0.000000</td>\n",
       "      <td>0.000000</td>\n",
       "      <td>0.000000</td>\n",
       "      <td>0.508295</td>\n",
       "      <td>0.000000</td>\n",
       "      <td>0</td>\n",
       "      <td>9</td>\n",
       "      <td>18</td>\n",
       "      <td>-0.085185</td>\n",
       "      <td>1</td>\n",
       "    </tr>\n",
       "    <tr>\n",
       "      <th>2</th>\n",
       "      <td>1.028857e+18</td>\n",
       "      <td>10mgp</td>\n",
       "      <td>0.157130</td>\n",
       "      <td>0.157147</td>\n",
       "      <td>0.014292</td>\n",
       "      <td>0.014292</td>\n",
       "      <td>0.157099</td>\n",
       "      <td>0.157097</td>\n",
       "      <td>0.014292</td>\n",
       "      <td>0.300065</td>\n",
       "      <td>0.014292</td>\n",
       "      <td>0.014292</td>\n",
       "      <td>0</td>\n",
       "      <td>8</td>\n",
       "      <td>4</td>\n",
       "      <td>0.333333</td>\n",
       "      <td>2</td>\n",
       "    </tr>\n",
       "    <tr>\n",
       "      <th>3</th>\n",
       "      <td>1.017129e+18</td>\n",
       "      <td>10mgp</td>\n",
       "      <td>0.157129</td>\n",
       "      <td>0.157156</td>\n",
       "      <td>0.014287</td>\n",
       "      <td>0.014288</td>\n",
       "      <td>0.299989</td>\n",
       "      <td>0.014289</td>\n",
       "      <td>0.157153</td>\n",
       "      <td>0.157131</td>\n",
       "      <td>0.014290</td>\n",
       "      <td>0.014287</td>\n",
       "      <td>2</td>\n",
       "      <td>7</td>\n",
       "      <td>19</td>\n",
       "      <td>0.600000</td>\n",
       "      <td>2</td>\n",
       "    </tr>\n",
       "    <tr>\n",
       "      <th>4</th>\n",
       "      <td>1.013736e+18</td>\n",
       "      <td>10mgp</td>\n",
       "      <td>0.020004</td>\n",
       "      <td>0.219996</td>\n",
       "      <td>0.020004</td>\n",
       "      <td>0.419946</td>\n",
       "      <td>0.020008</td>\n",
       "      <td>0.020004</td>\n",
       "      <td>0.020004</td>\n",
       "      <td>0.020004</td>\n",
       "      <td>0.020007</td>\n",
       "      <td>0.220022</td>\n",
       "      <td>0</td>\n",
       "      <td>7</td>\n",
       "      <td>10</td>\n",
       "      <td>0.000000</td>\n",
       "      <td>1</td>\n",
       "    </tr>\n",
       "  </tbody>\n",
       "</table>\n",
       "</div>"
      ],
      "text/plain": [
       "             id username         0         1         2         3         4  \\\n",
       "0  1.045203e+18    10mgp  0.010058  0.010058  0.228744  0.487173  0.113148   \n",
       "1  1.036687e+18    10mgp  0.000000  0.129514  0.303850  0.000000  0.000000   \n",
       "2  1.028857e+18    10mgp  0.157130  0.157147  0.014292  0.014292  0.157099   \n",
       "3  1.017129e+18    10mgp  0.157129  0.157156  0.014287  0.014288  0.299989   \n",
       "4  1.013736e+18    10mgp  0.020004  0.219996  0.020004  0.419946  0.020008   \n",
       "\n",
       "          5         6         7         8         9  DayOfWeek  Month  Hour  \\\n",
       "0  0.010058  0.010058  0.010058  0.010060  0.110585          3      9     6   \n",
       "1  0.000000  0.000000  0.000000  0.508295  0.000000          0      9    18   \n",
       "2  0.157097  0.014292  0.300065  0.014292  0.014292          0      8     4   \n",
       "3  0.014289  0.157153  0.157131  0.014290  0.014287          2      7    19   \n",
       "4  0.020004  0.020004  0.020004  0.020007  0.220022          0      7    10   \n",
       "\n",
       "   sentiment  sent_class  \n",
       "0   0.500000           2  \n",
       "1  -0.085185           1  \n",
       "2   0.333333           2  \n",
       "3   0.600000           2  \n",
       "4   0.000000           1  "
      ]
     },
     "execution_count": 4,
     "metadata": {},
     "output_type": "execute_result"
    }
   ],
   "source": [
    "kf.head()"
   ]
  },
  {
   "cell_type": "code",
   "execution_count": 9,
   "metadata": {},
   "outputs": [],
   "source": [
    "from sklearn.preprocessing import PolynomialFeatures, StandardScaler"
   ]
  },
  {
   "cell_type": "code",
   "execution_count": 10,
   "metadata": {},
   "outputs": [],
   "source": [
    "X = kf[['username', '0', '1', '2', '3', '4', '5', '6', '7', '8', '9', 'DayOfWeek', 'Month', 'Hour']]\n",
    "X = pd.get_dummies(X)"
   ]
  },
  {
   "cell_type": "code",
   "execution_count": 11,
   "metadata": {},
   "outputs": [
    {
     "name": "stderr",
     "output_type": "stream",
     "text": [
      "C:\\Users\\mort8k\\Anaconda3\\envs\\capstone_v1\\lib\\site-packages\\sklearn\\preprocessing\\data.py:625: DataConversionWarning: Data with input dtype uint8, int64, float64 were all converted to float64 by StandardScaler.\n",
      "  return self.partial_fit(X, y)\n",
      "C:\\Users\\mort8k\\Anaconda3\\envs\\capstone_v1\\lib\\site-packages\\sklearn\\base.py:462: DataConversionWarning: Data with input dtype uint8, int64, float64 were all converted to float64 by StandardScaler.\n",
      "  return self.fit(X, **fit_params).transform(X)\n"
     ]
    }
   ],
   "source": [
    "ss = StandardScaler()\n",
    "X = pd.DataFrame(ss.fit_transform(X), columns=X.columns)\n",
    "# I recognize here that I should've scaled after train test split."
   ]
  },
  {
   "cell_type": "code",
   "execution_count": 12,
   "metadata": {},
   "outputs": [],
   "source": [
    "y = kf[['sentiment']]"
   ]
  },
  {
   "cell_type": "code",
   "execution_count": 13,
   "metadata": {},
   "outputs": [],
   "source": [
    "yc = kf[['sent_class']]"
   ]
  },
  {
   "cell_type": "code",
   "execution_count": 14,
   "metadata": {},
   "outputs": [],
   "source": [
    "from sklearn.model_selection import train_test_split\n",
    "X_train, X_test, yc_train, yc_test = train_test_split(X,yc,test_size=0.2)"
   ]
  },
  {
   "cell_type": "code",
   "execution_count": null,
   "metadata": {},
   "outputs": [
    {
     "name": "stderr",
     "output_type": "stream",
     "text": [
      "/Users/LujFel/anaconda3/lib/python3.7/site-packages/sklearn/neural_network/multilayer_perceptron.py:916: DataConversionWarning: A column-vector y was passed when a 1d array was expected. Please change the shape of y to (n_samples, ), for example using ravel().\n",
      "  y = column_or_1d(y, warn=True)\n"
     ]
    }
   ],
   "source": [
    "from sklearn.neural_network import MLPClassifier\n",
    "\n",
    "clf = MLPClassifier(solver='lbfgs', alpha=1e-5, hidden_layer_sizes=(5, 5, 5))\n",
    "\n",
    "clf.fit(X_train, yc_train)                         \n",
    "clf.score(X_train, yc_train), clf.score(X_test, yc_test)    "
   ]
  },
  {
   "cell_type": "code",
   "execution_count": 17,
   "metadata": {},
   "outputs": [],
   "source": [
    "def one_hot_encoder(array):\n",
    "    unique_values, indices = np.unique(array, return_inverse=True)\n",
    "    print(unique_values)\n",
    "    print(indices)\n",
    "    one_hot_encoded_data = np_utils.to_categorical(indices, len(unique_values))\n",
    "    return one_hot_encoded_data"
   ]
  },
  {
   "cell_type": "code",
   "execution_count": 21,
   "metadata": {},
   "outputs": [],
   "source": [
    "from keras.models import Sequential\n",
    "from keras.layers import Dense, Conv2D\n",
    "from keras.utils import np_utils"
   ]
  },
  {
   "cell_type": "code",
   "execution_count": 22,
   "metadata": {},
   "outputs": [
    {
     "data": {
      "text/plain": [
       "(376949, 442)"
      ]
     },
     "execution_count": 22,
     "metadata": {},
     "output_type": "execute_result"
    }
   ],
   "source": [
    "X.shape"
   ]
  },
  {
   "cell_type": "code",
   "execution_count": 26,
   "metadata": {},
   "outputs": [
    {
     "name": "stdout",
     "output_type": "stream",
     "text": [
      "[0 1 2]\n",
      "[1 1 1 ... 0 1 2]\n"
     ]
    }
   ],
   "source": [
    "yc_train_encoded = one_hot_encoder(yc_train)"
   ]
  },
  {
   "cell_type": "code",
   "execution_count": 48,
   "metadata": {},
   "outputs": [
    {
     "name": "stdout",
     "output_type": "stream",
     "text": [
      "[0 1 2]\n",
      "[2 1 0 ... 2 1 1]\n"
     ]
    }
   ],
   "source": [
    "yc_test_encoded = one_hot_encoder(yc_test)"
   ]
  },
  {
   "cell_type": "code",
   "execution_count": 81,
   "metadata": {},
   "outputs": [
    {
     "name": "stdout",
     "output_type": "stream",
     "text": [
      "_________________________________________________________________\n",
      "Layer (type)                 Output Shape              Param #   \n",
      "=================================================================\n",
      "Input_Layer (Dense)          (None, 128)               56704     \n",
      "_________________________________________________________________\n",
      "dense_22 (Dense)             (None, 256)               33024     \n",
      "_________________________________________________________________\n",
      "Output_Layer (Dense)         (None, 3)                 771       \n",
      "=================================================================\n",
      "Total params: 90,499\n",
      "Trainable params: 90,499\n",
      "Non-trainable params: 0\n",
      "_________________________________________________________________\n"
     ]
    }
   ],
   "source": [
    "model = Sequential()\n",
    "model.add(Dense(128, input_shape=(442,), name='Input_Layer', activation='relu'))\n",
    "model.add(Dense(256, activation='relu'))\n",
    "# model.add(Dense(64, activation='relu'))\n",
    "model.add(Dense(3, name='Output_Layer', activation='softmax'))\n",
    "model.summary()"
   ]
  },
  {
   "cell_type": "code",
   "execution_count": 82,
   "metadata": {},
   "outputs": [],
   "source": [
    "model.compile(optimizer='Adam', loss='categorical_crossentropy', metrics=['accuracy'])"
   ]
  },
  {
   "cell_type": "code",
   "execution_count": 83,
   "metadata": {
    "scrolled": false
   },
   "outputs": [
    {
     "name": "stdout",
     "output_type": "stream",
     "text": [
      "Epoch 1/30\n",
      "5/5 [==============================] - 7s 1s/step - loss: 0.9690 - acc: 0.5978\n",
      "Epoch 2/30\n",
      "5/5 [==============================] - 6s 1s/step - loss: 0.8942 - acc: 0.6369\n",
      "Epoch 3/30\n",
      "5/5 [==============================] - 6s 1s/step - loss: 0.8366 - acc: 0.6502\n",
      "Epoch 4/30\n",
      "5/5 [==============================] - 6s 1s/step - loss: 0.8160 - acc: 0.6543\n",
      "Epoch 5/30\n",
      "5/5 [==============================] - 6s 1s/step - loss: 0.8059 - acc: 0.6571\n",
      "Epoch 6/30\n",
      "5/5 [==============================] - 6s 1s/step - loss: 0.7960 - acc: 0.6577\n",
      "Epoch 7/30\n",
      "5/5 [==============================] - 6s 1s/step - loss: 0.7923 - acc: 0.6596\n",
      "Epoch 8/30\n",
      "5/5 [==============================] - 6s 1s/step - loss: 0.7873 - acc: 0.6601\n",
      "Epoch 9/30\n",
      "5/5 [==============================] - 6s 1s/step - loss: 0.7857 - acc: 0.6615\n",
      "Epoch 10/30\n",
      "5/5 [==============================] - 6s 1s/step - loss: 0.7834 - acc: 0.6619\n",
      "Epoch 11/30\n",
      "5/5 [==============================] - 6s 1s/step - loss: 0.7822 - acc: 0.6623\n",
      "Epoch 12/30\n",
      "5/5 [==============================] - 6s 1s/step - loss: 0.7809 - acc: 0.6628\n",
      "Epoch 13/30\n",
      "5/5 [==============================] - 6s 1s/step - loss: 0.7799 - acc: 0.6633\n",
      "Epoch 14/30\n",
      "5/5 [==============================] - 6s 1s/step - loss: 0.7790 - acc: 0.6637\n",
      "Epoch 15/30\n",
      "5/5 [==============================] - 6s 1s/step - loss: 0.7781 - acc: 0.6644\n",
      "Epoch 16/30\n",
      "5/5 [==============================] - 6s 1s/step - loss: 0.7773 - acc: 0.6650\n",
      "Epoch 17/30\n",
      "5/5 [==============================] - 6s 1s/step - loss: 0.7765 - acc: 0.6657\n",
      "Epoch 18/30\n",
      "5/5 [==============================] - 6s 1s/step - loss: 0.7758 - acc: 0.6663\n",
      "Epoch 19/30\n",
      "5/5 [==============================] - 6s 1s/step - loss: 0.7751 - acc: 0.6669\n",
      "Epoch 20/30\n",
      "5/5 [==============================] - 6s 1s/step - loss: 0.7743 - acc: 0.6672\n",
      "Epoch 21/30\n",
      "5/5 [==============================] - 6s 1s/step - loss: 0.7736 - acc: 0.6676\n",
      "Epoch 22/30\n",
      "5/5 [==============================] - 6s 1s/step - loss: 0.7729 - acc: 0.6680\n",
      "Epoch 23/30\n",
      "5/5 [==============================] - 6s 1s/step - loss: 0.7722 - acc: 0.6683\n",
      "Epoch 24/30\n",
      "5/5 [==============================] - 6s 1s/step - loss: 0.7716 - acc: 0.6686\n",
      "Epoch 25/30\n",
      "5/5 [==============================] - 6s 1s/step - loss: 0.7709 - acc: 0.6688\n",
      "Epoch 26/30\n",
      "5/5 [==============================] - 7s 1s/step - loss: 0.7702 - acc: 0.6690\n",
      "Epoch 27/30\n",
      "5/5 [==============================] - 6s 1s/step - loss: 0.7695 - acc: 0.6693\n",
      "Epoch 28/30\n",
      "5/5 [==============================] - 6s 1s/step - loss: 0.7688 - acc: 0.6694\n",
      "Epoch 29/30\n",
      "5/5 [==============================] - 6s 1s/step - loss: 0.7681 - acc: 0.6696\n",
      "Epoch 30/30\n",
      "5/5 [==============================] - 6s 1s/step - loss: 0.7674 - acc: 0.6699\n"
     ]
    },
    {
     "data": {
      "text/plain": [
       "<keras.callbacks.History at 0x24d88c76860>"
      ]
     },
     "execution_count": 83,
     "metadata": {},
     "output_type": "execute_result"
    }
   ],
   "source": [
    "model.fit(X_train, yc_train_encoded, batch_size=None, epochs=30, steps_per_epoch=5)"
   ]
  },
  {
   "cell_type": "code",
   "execution_count": 84,
   "metadata": {},
   "outputs": [
    {
     "name": "stdout",
     "output_type": "stream",
     "text": [
      "75390/75390 [==============================] - 5s 60us/step\n"
     ]
    },
    {
     "data": {
      "text/plain": [
       "[0.7742246117985901, 0.6697705265918766]"
      ]
     },
     "execution_count": 84,
     "metadata": {},
     "output_type": "execute_result"
    }
   ],
   "source": [
    "model.evaluate(X_test, yc_test_encoded)"
   ]
  },
  {
   "cell_type": "code",
   "execution_count": 89,
   "metadata": {},
   "outputs": [
    {
     "data": {
      "text/plain": [
       "(75390, 442)"
      ]
     },
     "execution_count": 89,
     "metadata": {},
     "output_type": "execute_result"
    }
   ],
   "source": [
    "X_test.shape"
   ]
  },
  {
   "cell_type": "code",
   "execution_count": 85,
   "metadata": {},
   "outputs": [],
   "source": [
    "model.save('lujain_model.h5')"
   ]
  }
 ],
 "metadata": {
  "kernelspec": {
   "display_name": "Python 3",
   "language": "python",
   "name": "python3"
  },
  "language_info": {
   "codemirror_mode": {
    "name": "ipython",
    "version": 3
   },
   "file_extension": ".py",
   "mimetype": "text/x-python",
   "name": "python",
   "nbconvert_exporter": "python",
   "pygments_lexer": "ipython3",
   "version": "3.7.3"
  }
 },
 "nbformat": 4,
 "nbformat_minor": 2
}
